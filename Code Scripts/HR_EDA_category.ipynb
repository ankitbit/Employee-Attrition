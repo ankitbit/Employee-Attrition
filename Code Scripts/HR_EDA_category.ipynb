{
 "cells": [
  {
   "cell_type": "markdown",
   "metadata": {
    "_cell_guid": "5c11cebc-996d-44f5-e022-3f34fa33f9c5"
   },
   "source": [
    "#IMB Employee Attrition Analysis by Category"
   ]
  },
  {
   "cell_type": "markdown",
   "metadata": {
    "_cell_guid": "9de35311-0d5e-1d54-6795-ccb22ded359e"
   },
   "source": [
    "----------\n",
    "## Set Up Dataset"
   ]
  },
  {
   "cell_type": "code",
   "execution_count": 1,
   "metadata": {
    "_cell_guid": "ffeaa166-8434-36c8-13c7-125c449132da",
    "collapsed": true
   },
   "outputs": [],
   "source": [
    "from pandas import read_csv\n",
    "data = read_csv(\"HR_Attrition.csv\")"
   ]
  },
  {
   "cell_type": "code",
   "execution_count": 2,
   "metadata": {
    "_cell_guid": "ca9b8fbf-754d-0be5-597f-abf57009c9df",
    "collapsed": true
   },
   "outputs": [],
   "source": [
    "target = \"Attrition\""
   ]
  },
  {
   "cell_type": "code",
   "execution_count": 4,
   "metadata": {
    "_cell_guid": "d0e26e32-79fe-d929-f047-2ff4402d08ec",
    "collapsed": true
   },
   "outputs": [],
   "source": [
    "feature_by_dtype = {}\n",
    "for c in data.columns:\n",
    "    \n",
    "    if c == target: continue\n",
    "    \n",
    "    data_type = str(data[c].dtype)\n",
    "    \n",
    "    if data_type not in feature_by_dtype.keys():\n",
    "         feature_by_dtype[data_type] = [c]\n",
    "    else:\n",
    "        feature_by_dtype[data_type].append(c)"
   ]
  },
  {
   "cell_type": "code",
   "execution_count": 5,
   "metadata": {
    "_cell_guid": "04fc8344-410b-5240-949e-83ac21ce5757",
    "collapsed": true
   },
   "outputs": [],
   "source": [
    "objects = feature_by_dtype[\"object\"]"
   ]
  },
  {
   "cell_type": "code",
   "execution_count": 6,
   "metadata": {
    "_cell_guid": "73c16fe6-def8-46be-7537-e34bbe2a17e0",
    "collapsed": true
   },
   "outputs": [],
   "source": [
    "remove = [\"Over18\"]"
   ]
  },
  {
   "cell_type": "code",
   "execution_count": 7,
   "metadata": {
    "_cell_guid": "7133d78f-ffcb-0487-f96d-bc4903837df2",
    "collapsed": true
   },
   "outputs": [],
   "source": [
    "categorical_features = [f for f in objects if f not in remove]"
   ]
  },
  {
   "cell_type": "code",
   "execution_count": 8,
   "metadata": {
    "_cell_guid": "b771c86d-cfa1-19d6-cd6c-6241bbd86c22",
    "collapsed": true
   },
   "outputs": [],
   "source": [
    "int64s = feature_by_dtype[\"int64\"]"
   ]
  },
  {
   "cell_type": "code",
   "execution_count": 9,
   "metadata": {
    "_cell_guid": "86b1950a-8146-897a-c3af-1a9ef6cd46db",
    "collapsed": true
   },
   "outputs": [],
   "source": [
    "remove.append(\"StandardHours\")\n",
    "remove.append(\"EmployeeCount\")"
   ]
  },
  {
   "cell_type": "code",
   "execution_count": 10,
   "metadata": {
    "_cell_guid": "c0f1fa1f-3bb4-b7bf-6dd6-2dc5ff053998",
    "collapsed": true
   },
   "outputs": [],
   "source": [
    "count_features = []\n",
    "for i in [i for i in int64s if len(data[i].unique()) < 10 and i not in remove]:\n",
    "    count_features.append(i)"
   ]
  },
  {
   "cell_type": "code",
   "execution_count": 10,
   "metadata": {
    "_cell_guid": "1916a875-8d94-f11b-8ecf-d323f845724d",
    "collapsed": true
   },
   "outputs": [],
   "source": [
    "#count_features = count_features + [\"TotalWorkingYears\", \"YearsAtCompany\", \"HourlyRate\"]"
   ]
  },
  {
   "cell_type": "code",
   "execution_count": 11,
   "metadata": {
    "_cell_guid": "459e7d82-7331-2873-4f9c-d4df9c7e12ca"
   },
   "outputs": [
    {
     "data": {
      "text/html": [
       "<div>\n",
       "<table border=\"1\" class=\"dataframe\">\n",
       "  <thead>\n",
       "    <tr style=\"text-align: right;\">\n",
       "      <th></th>\n",
       "      <th>Education</th>\n",
       "      <th>EnvironmentSatisfaction</th>\n",
       "      <th>JobInvolvement</th>\n",
       "      <th>JobLevel</th>\n",
       "      <th>JobSatisfaction</th>\n",
       "      <th>PerformanceRating</th>\n",
       "      <th>RelationshipSatisfaction</th>\n",
       "      <th>StockOptionLevel</th>\n",
       "      <th>TrainingTimesLastYear</th>\n",
       "      <th>WorkLifeBalance</th>\n",
       "    </tr>\n",
       "  </thead>\n",
       "  <tbody>\n",
       "    <tr>\n",
       "      <th>0</th>\n",
       "      <td>2</td>\n",
       "      <td>2</td>\n",
       "      <td>3</td>\n",
       "      <td>2</td>\n",
       "      <td>4</td>\n",
       "      <td>3</td>\n",
       "      <td>1</td>\n",
       "      <td>0</td>\n",
       "      <td>0</td>\n",
       "      <td>1</td>\n",
       "    </tr>\n",
       "    <tr>\n",
       "      <th>1</th>\n",
       "      <td>1</td>\n",
       "      <td>3</td>\n",
       "      <td>2</td>\n",
       "      <td>2</td>\n",
       "      <td>2</td>\n",
       "      <td>4</td>\n",
       "      <td>4</td>\n",
       "      <td>1</td>\n",
       "      <td>3</td>\n",
       "      <td>3</td>\n",
       "    </tr>\n",
       "    <tr>\n",
       "      <th>2</th>\n",
       "      <td>2</td>\n",
       "      <td>4</td>\n",
       "      <td>2</td>\n",
       "      <td>1</td>\n",
       "      <td>3</td>\n",
       "      <td>3</td>\n",
       "      <td>2</td>\n",
       "      <td>0</td>\n",
       "      <td>3</td>\n",
       "      <td>3</td>\n",
       "    </tr>\n",
       "    <tr>\n",
       "      <th>3</th>\n",
       "      <td>4</td>\n",
       "      <td>4</td>\n",
       "      <td>3</td>\n",
       "      <td>1</td>\n",
       "      <td>3</td>\n",
       "      <td>3</td>\n",
       "      <td>3</td>\n",
       "      <td>0</td>\n",
       "      <td>3</td>\n",
       "      <td>3</td>\n",
       "    </tr>\n",
       "    <tr>\n",
       "      <th>4</th>\n",
       "      <td>1</td>\n",
       "      <td>1</td>\n",
       "      <td>3</td>\n",
       "      <td>1</td>\n",
       "      <td>2</td>\n",
       "      <td>3</td>\n",
       "      <td>4</td>\n",
       "      <td>1</td>\n",
       "      <td>3</td>\n",
       "      <td>3</td>\n",
       "    </tr>\n",
       "  </tbody>\n",
       "</table>\n",
       "</div>"
      ],
      "text/plain": [
       "   Education  EnvironmentSatisfaction  JobInvolvement  JobLevel  \\\n",
       "0          2                        2               3         2   \n",
       "1          1                        3               2         2   \n",
       "2          2                        4               2         1   \n",
       "3          4                        4               3         1   \n",
       "4          1                        1               3         1   \n",
       "\n",
       "   JobSatisfaction  PerformanceRating  RelationshipSatisfaction  \\\n",
       "0                4                  3                         1   \n",
       "1                2                  4                         4   \n",
       "2                3                  3                         2   \n",
       "3                3                  3                         3   \n",
       "4                2                  3                         4   \n",
       "\n",
       "   StockOptionLevel  TrainingTimesLastYear  WorkLifeBalance  \n",
       "0                 0                      0                1  \n",
       "1                 1                      3                3  \n",
       "2                 0                      3                3  \n",
       "3                 0                      3                3  \n",
       "4                 1                      3                3  "
      ]
     },
     "execution_count": 11,
     "metadata": {},
     "output_type": "execute_result"
    }
   ],
   "source": [
    "data[count_features].head()"
   ]
  },
  {
   "cell_type": "code",
   "execution_count": 12,
   "metadata": {
    "_cell_guid": "beb188e3-7f70-b83c-a0bc-042bff8b1e6b"
   },
   "outputs": [
    {
     "data": {
      "text/html": [
       "<div>\n",
       "<table border=\"1\" class=\"dataframe\">\n",
       "  <thead>\n",
       "    <tr style=\"text-align: right;\">\n",
       "      <th></th>\n",
       "      <th>BusinessTravel</th>\n",
       "      <th>Department</th>\n",
       "      <th>EducationField</th>\n",
       "      <th>Gender</th>\n",
       "      <th>JobRole</th>\n",
       "      <th>MaritalStatus</th>\n",
       "      <th>OverTime</th>\n",
       "    </tr>\n",
       "  </thead>\n",
       "  <tbody>\n",
       "    <tr>\n",
       "      <th>0</th>\n",
       "      <td>Travel_Rarely</td>\n",
       "      <td>Sales</td>\n",
       "      <td>Life Sciences</td>\n",
       "      <td>Female</td>\n",
       "      <td>Sales Executive</td>\n",
       "      <td>Single</td>\n",
       "      <td>Yes</td>\n",
       "    </tr>\n",
       "    <tr>\n",
       "      <th>1</th>\n",
       "      <td>Travel_Frequently</td>\n",
       "      <td>Research &amp; Development</td>\n",
       "      <td>Life Sciences</td>\n",
       "      <td>Male</td>\n",
       "      <td>Research Scientist</td>\n",
       "      <td>Married</td>\n",
       "      <td>No</td>\n",
       "    </tr>\n",
       "    <tr>\n",
       "      <th>2</th>\n",
       "      <td>Travel_Rarely</td>\n",
       "      <td>Research &amp; Development</td>\n",
       "      <td>Other</td>\n",
       "      <td>Male</td>\n",
       "      <td>Laboratory Technician</td>\n",
       "      <td>Single</td>\n",
       "      <td>Yes</td>\n",
       "    </tr>\n",
       "    <tr>\n",
       "      <th>3</th>\n",
       "      <td>Travel_Frequently</td>\n",
       "      <td>Research &amp; Development</td>\n",
       "      <td>Life Sciences</td>\n",
       "      <td>Female</td>\n",
       "      <td>Research Scientist</td>\n",
       "      <td>Married</td>\n",
       "      <td>Yes</td>\n",
       "    </tr>\n",
       "    <tr>\n",
       "      <th>4</th>\n",
       "      <td>Travel_Rarely</td>\n",
       "      <td>Research &amp; Development</td>\n",
       "      <td>Medical</td>\n",
       "      <td>Male</td>\n",
       "      <td>Laboratory Technician</td>\n",
       "      <td>Married</td>\n",
       "      <td>No</td>\n",
       "    </tr>\n",
       "  </tbody>\n",
       "</table>\n",
       "</div>"
      ],
      "text/plain": [
       "      BusinessTravel              Department EducationField  Gender  \\\n",
       "0      Travel_Rarely                   Sales  Life Sciences  Female   \n",
       "1  Travel_Frequently  Research & Development  Life Sciences    Male   \n",
       "2      Travel_Rarely  Research & Development          Other    Male   \n",
       "3  Travel_Frequently  Research & Development  Life Sciences  Female   \n",
       "4      Travel_Rarely  Research & Development        Medical    Male   \n",
       "\n",
       "                 JobRole MaritalStatus OverTime  \n",
       "0        Sales Executive        Single      Yes  \n",
       "1     Research Scientist       Married       No  \n",
       "2  Laboratory Technician        Single      Yes  \n",
       "3     Research Scientist       Married      Yes  \n",
       "4  Laboratory Technician       Married       No  "
      ]
     },
     "execution_count": 12,
     "metadata": {},
     "output_type": "execute_result"
    }
   ],
   "source": [
    "data[categorical_features].head()"
   ]
  },
  {
   "cell_type": "markdown",
   "metadata": {
    "_cell_guid": "a8861a67-dcdf-d55a-704b-0e2230c9bfef"
   },
   "source": [
    "----------\n"
   ]
  },
  {
   "cell_type": "markdown",
   "metadata": {
    "_cell_guid": "3c067aa1-7859-9bfa-9d60-0b98b75e775b"
   },
   "source": [
    "# Chi-square 2 Way "
   ]
  },
  {
   "cell_type": "code",
   "execution_count": 13,
   "metadata": {
    "_cell_guid": "493af323-3246-1156-63b4-b83016fc9124",
    "collapsed": true
   },
   "outputs": [],
   "source": [
    "from scipy.stats import chi2_contingency\n",
    "from pandas import crosstab, DataFrame\n",
    "\n",
    "p_value_table = DataFrame(index = [target], columns = (categorical_features+count_features))\n",
    "\n",
    "for c in (categorical_features+count_features):\n",
    "\n",
    "    crosstable = crosstab(data[c], data[target])\n",
    "    chi2, p, dof, expected = chi2_contingency(crosstable)\n",
    "    p_value_table[c][target] = p\n",
    "\n",
    "p_value_table = p_value_table.T\n",
    "p_value_table[\"p < 0.05\"] = p_value_table.apply(lambda x : x < 0.05)"
   ]
  },
  {
   "cell_type": "code",
   "execution_count": 14,
   "metadata": {
    "_cell_guid": "5151a7c2-0dc0-8cdb-22f5-8976635fff75"
   },
   "outputs": [
    {
     "data": {
      "text/html": [
       "<div>\n",
       "<table border=\"1\" class=\"dataframe\">\n",
       "  <thead>\n",
       "    <tr style=\"text-align: right;\">\n",
       "      <th></th>\n",
       "      <th>Attrition</th>\n",
       "      <th>p &lt; 0.05</th>\n",
       "    </tr>\n",
       "  </thead>\n",
       "  <tbody>\n",
       "    <tr>\n",
       "      <th>PerformanceRating</th>\n",
       "      <td>0.990075</td>\n",
       "      <td>False</td>\n",
       "    </tr>\n",
       "    <tr>\n",
       "      <th>Education</th>\n",
       "      <td>0.545525</td>\n",
       "      <td>False</td>\n",
       "    </tr>\n",
       "    <tr>\n",
       "      <th>Gender</th>\n",
       "      <td>0.290572</td>\n",
       "      <td>False</td>\n",
       "    </tr>\n",
       "    <tr>\n",
       "      <th>RelationshipSatisfaction</th>\n",
       "      <td>0.154972</td>\n",
       "      <td>False</td>\n",
       "    </tr>\n",
       "    <tr>\n",
       "      <th>TrainingTimesLastYear</th>\n",
       "      <td>0.0191477</td>\n",
       "      <td>True</td>\n",
       "    </tr>\n",
       "    <tr>\n",
       "      <th>EducationField</th>\n",
       "      <td>0.00677398</td>\n",
       "      <td>True</td>\n",
       "    </tr>\n",
       "    <tr>\n",
       "      <th>Department</th>\n",
       "      <td>0.00452561</td>\n",
       "      <td>True</td>\n",
       "    </tr>\n",
       "    <tr>\n",
       "      <th>WorkLifeBalance</th>\n",
       "      <td>0.00097257</td>\n",
       "      <td>True</td>\n",
       "    </tr>\n",
       "    <tr>\n",
       "      <th>JobSatisfaction</th>\n",
       "      <td>0.0005563</td>\n",
       "      <td>True</td>\n",
       "    </tr>\n",
       "    <tr>\n",
       "      <th>EnvironmentSatisfaction</th>\n",
       "      <td>5.12347e-05</td>\n",
       "      <td>True</td>\n",
       "    </tr>\n",
       "    <tr>\n",
       "      <th>BusinessTravel</th>\n",
       "      <td>5.60861e-06</td>\n",
       "      <td>True</td>\n",
       "    </tr>\n",
       "    <tr>\n",
       "      <th>JobInvolvement</th>\n",
       "      <td>2.86318e-06</td>\n",
       "      <td>True</td>\n",
       "    </tr>\n",
       "    <tr>\n",
       "      <th>MaritalStatus</th>\n",
       "      <td>9.45551e-11</td>\n",
       "      <td>True</td>\n",
       "    </tr>\n",
       "    <tr>\n",
       "      <th>StockOptionLevel</th>\n",
       "      <td>4.37939e-13</td>\n",
       "      <td>True</td>\n",
       "    </tr>\n",
       "    <tr>\n",
       "      <th>JobLevel</th>\n",
       "      <td>6.63468e-15</td>\n",
       "      <td>True</td>\n",
       "    </tr>\n",
       "    <tr>\n",
       "      <th>JobRole</th>\n",
       "      <td>2.75248e-15</td>\n",
       "      <td>True</td>\n",
       "    </tr>\n",
       "    <tr>\n",
       "      <th>OverTime</th>\n",
       "      <td>8.15842e-21</td>\n",
       "      <td>True</td>\n",
       "    </tr>\n",
       "  </tbody>\n",
       "</table>\n",
       "</div>"
      ],
      "text/plain": [
       "                            Attrition p < 0.05\n",
       "PerformanceRating            0.990075    False\n",
       "Education                    0.545525    False\n",
       "Gender                       0.290572    False\n",
       "RelationshipSatisfaction     0.154972    False\n",
       "TrainingTimesLastYear       0.0191477     True\n",
       "EducationField             0.00677398     True\n",
       "Department                 0.00452561     True\n",
       "WorkLifeBalance            0.00097257     True\n",
       "JobSatisfaction             0.0005563     True\n",
       "EnvironmentSatisfaction   5.12347e-05     True\n",
       "BusinessTravel            5.60861e-06     True\n",
       "JobInvolvement            2.86318e-06     True\n",
       "MaritalStatus             9.45551e-11     True\n",
       "StockOptionLevel          4.37939e-13     True\n",
       "JobLevel                  6.63468e-15     True\n",
       "JobRole                   2.75248e-15     True\n",
       "OverTime                  8.15842e-21     True"
      ]
     },
     "execution_count": 14,
     "metadata": {},
     "output_type": "execute_result"
    }
   ],
   "source": [
    "p_value_table.sort_values(\"Attrition\", ascending=False)"
   ]
  },
  {
   "cell_type": "markdown",
   "metadata": {
    "_cell_guid": "b3f73d05-0934-0ab3-3dec-29509d2de22f"
   },
   "source": [
    "Attrition's Non-Significant Categorical Relationships"
   ]
  },
  {
   "cell_type": "code",
   "execution_count": 15,
   "metadata": {
    "_cell_guid": "acfe282c-a80f-c7b7-474b-6db059f792e9"
   },
   "outputs": [
    {
     "name": "stdout",
     "output_type": "stream",
     "text": [
      "['Gender', 'Education', 'PerformanceRating', 'RelationshipSatisfaction']\n"
     ]
    }
   ],
   "source": [
    "ns = p_value_table[p_value_table[\"p < 0.05\"] == False].index.tolist()\n",
    "print(ns)"
   ]
  },
  {
   "cell_type": "markdown",
   "metadata": {
    "_cell_guid": "024ceb8f-d70a-587b-d536-4c5bc7a99839"
   },
   "source": [
    "Attrition's Statistically Significant Categorical Relationships"
   ]
  },
  {
   "cell_type": "code",
   "execution_count": 16,
   "metadata": {
    "_cell_guid": "b50e146c-bdf6-80e5-4b8b-f747c499028c"
   },
   "outputs": [
    {
     "name": "stdout",
     "output_type": "stream",
     "text": [
      "['BusinessTravel', 'Department', 'EducationField', 'JobRole', 'MaritalStatus', 'OverTime', 'EnvironmentSatisfaction', 'JobInvolvement', 'JobLevel', 'JobSatisfaction', 'StockOptionLevel', 'TrainingTimesLastYear', 'WorkLifeBalance']\n"
     ]
    }
   ],
   "source": [
    "significant = p_value_table[p_value_table[\"p < 0.05\"] == True].index.tolist()\n",
    "print(significant)"
   ]
  },
  {
   "cell_type": "markdown",
   "metadata": {
    "_cell_guid": "5156e0ca-28f0-a41c-209b-2c3772fbf837"
   },
   "source": [
    "----------\n",
    "# Count Plots"
   ]
  },
  {
   "cell_type": "code",
   "execution_count": 17,
   "metadata": {
    "_cell_guid": "c12b61de-da7b-a905-e79d-58bf11433c9f"
   },
   "outputs": [
    {
     "name": "stderr",
     "output_type": "stream",
     "text": [
      "F:\\Anaconda3\\envs\\tensorflow-gpu\\lib\\site-packages\\IPython\\html.py:14: ShimWarning: The `IPython.html` package has been deprecated since IPython 4.0. You should import from `notebook` instead. `IPython.html.widgets` has moved to `ipywidgets`.\n",
      "  \"`IPython.html.widgets` has moved to `ipywidgets`.\", ShimWarning)\n"
     ]
    }
   ],
   "source": [
    "def percentages(data,category, filter_):\n",
    "    output = {}\n",
    "    total_count = data[filter_][category].value_counts().sum()\n",
    "    for subclass in data[filter_][category].unique():\n",
    "        subclass_count = data[filter_][category].value_counts()[subclass]\n",
    "        output[subclass] = (subclass_count / total_count) * 100\n",
    "    return output\n",
    "\n",
    "from IPython.display import display\n",
    "from pandas import DataFrame, options\n",
    "\n",
    "def display_percentages(data,category, filter_):\n",
    "    perc = percentages(data,category, filter_)\n",
    "    df = DataFrame(perc, index=[\"Percent\"]).T.sort_values(\"Percent\", ascending=False)\n",
    "    df[\"Cumulative Percent\"] = [df[\"Percent\"][0:i].sum() for i in range(1,len(df)+1)]\n",
    "    options.display.float_format = '{:,.1f}%'.format\n",
    "    print(\"Yes Only\")\n",
    "    print(\"Total Count: %s\" % len(data[filter_]))\n",
    "    display(df)\n",
    "    \n",
    "#====\n",
    "\n",
    "from seaborn import countplot, despine, axes_style, set_style\n",
    "from matplotlib.pyplot import show,figure,subplot,xticks,suptitle,title, ylabel, xlabel, margins\n",
    "from numpy import mean\n",
    "\n",
    "def display_categorical_x_categorical_analysis(data,category):\n",
    "\n",
    "    set_style(\"whitegrid\")\n",
    "\n",
    "    with axes_style({'grid.color': \"0.95\", \"lines.color\" : \"0.95\"}):\n",
    "\n",
    "        c = category\n",
    "\n",
    "        order = data[data[target] == \"Yes\"][c].value_counts().sort_values(ascending=False).index\n",
    "\n",
    "        fig = figure(figsize=(12,6))\n",
    "        suptitle(c, fontsize=16)\n",
    "        margins(0.8)\n",
    "        subplot(121)\n",
    "        title(\"Yes Only\")\n",
    "        cp = countplot(x=c, data=data[data[target] == \"Yes\"], order=order, color=\"#121831\", linewidth=0)\n",
    "        despine(left=True, top=True)\n",
    "\n",
    "        xlabel_char_length = int(mean([len(str(i)) for i in data[c].unique()]))\n",
    "\n",
    "        if(xlabel_char_length in range(7, 15)): \n",
    "            xticks(rotation=45)\n",
    "        elif(xlabel_char_length > 14):\n",
    "            xticks(rotation=90)\n",
    "\n",
    "        subplot(122)\n",
    "        title(\"Yes vs No\")\n",
    "        cp = countplot(x=c, hue=target, data=data, order=order, palette=[\"#121831\", \"#d4e2ed\"], linewidth=0)\n",
    "        despine(left=True, top=True)\n",
    "        if(xlabel_char_length in range(7, 15)): \n",
    "            xticks(rotation=45)\n",
    "        elif(xlabel_char_length > 14):\n",
    "            xticks(rotation=90)\n",
    "        xlabel(c)\n",
    "        show()\n",
    "\n",
    "        display_percentages(data,c,data[target] == \"Yes\")"
   ]
  },
  {
   "cell_type": "code",
   "execution_count": 18,
   "metadata": {
    "_cell_guid": "95665690-ac0d-ac5a-4b4f-e514c298e9d5",
    "collapsed": true
   },
   "outputs": [],
   "source": [
    "i = iter(significant)"
   ]
  },
  {
   "cell_type": "markdown",
   "metadata": {
    "_cell_guid": "74750a7d-83b1-56fc-f127-c7ada3f47f51"
   },
   "source": [
    "# Majority of employees lost in attrition rarely travel."
   ]
  },
  {
   "cell_type": "code",
   "execution_count": 19,
   "metadata": {
    "_cell_guid": "b1e095f7-5a43-0ebf-ce5b-0369490b6887"
   },
   "outputs": [
    {
     "data": {
      "image/png": "[encoded data removed]",
      "text/plain": [
       "<matplotlib.figure.Figure at 0x1ffc1c4e6d8>"
      ]
     },
     "metadata": {},
     "output_type": "display_data"
    },
    {
     "name": "stdout",
     "output_type": "stream",
     "text": [
      "Yes Only\n",
      "Total Count: 237\n"
     ]
    },
    {
     "data": {
      "text/html": [
       "<div>\n",
       "<table border=\"1\" class=\"dataframe\">\n",
       "  <thead>\n",
       "    <tr style=\"text-align: right;\">\n",
       "      <th></th>\n",
       "      <th>Percent</th>\n",
       "      <th>Cumulative Percent</th>\n",
       "    </tr>\n",
       "  </thead>\n",
       "  <tbody>\n",
       "    <tr>\n",
       "      <th>Travel_Rarely</th>\n",
       "      <td>65.8%</td>\n",
       "      <td>65.8%</td>\n",
       "    </tr>\n",
       "    <tr>\n",
       "      <th>Travel_Frequently</th>\n",
       "      <td>29.1%</td>\n",
       "      <td>94.9%</td>\n",
       "    </tr>\n",
       "    <tr>\n",
       "      <th>Non-Travel</th>\n",
       "      <td>5.1%</td>\n",
       "      <td>100.0%</td>\n",
       "    </tr>\n",
       "  </tbody>\n",
       "</table>\n",
       "</div>"
      ],
      "text/plain": [
       "                   Percent  Cumulative Percent\n",
       "Travel_Rarely        65.8%               65.8%\n",
       "Travel_Frequently    29.1%               94.9%\n",
       "Non-Travel            5.1%              100.0%"
      ]
     },
     "metadata": {},
     "output_type": "display_data"
    }
   ],
   "source": [
    "display_categorical_x_categorical_analysis(data,next(i))"
   ]
  },
  {
   "cell_type": "markdown",
   "metadata": {
    "_cell_guid": "f2f2a221-70ed-133a-6235-894d11ad82da"
   },
   "source": [
    "# Research & Development and Sales department contribute ~95% of the employees lost in attrition"
   ]
  },
  {
   "cell_type": "code",
   "execution_count": 20,
   "metadata": {
    "_cell_guid": "d534fc59-72db-1976-c015-60277a7be408"
   },
   "outputs": [
    {
     "data": {
      "image/png": "[encoded data removed]",
      "text/plain": [
       "<matplotlib.figure.Figure at 0x1ffbfb17fd0>"
      ]
     },
     "metadata": {},
     "output_type": "display_data"
    },
    {
     "name": "stdout",
     "output_type": "stream",
     "text": [
      "Yes Only\n",
      "Total Count: 237\n"
     ]
    },
    {
     "data": {
      "text/html": [
       "<div>\n",
       "<table border=\"1\" class=\"dataframe\">\n",
       "  <thead>\n",
       "    <tr style=\"text-align: right;\">\n",
       "      <th></th>\n",
       "      <th>Percent</th>\n",
       "      <th>Cumulative Percent</th>\n",
       "    </tr>\n",
       "  </thead>\n",
       "  <tbody>\n",
       "    <tr>\n",
       "      <th>Research &amp; Development</th>\n",
       "      <td>56.1%</td>\n",
       "      <td>56.1%</td>\n",
       "    </tr>\n",
       "    <tr>\n",
       "      <th>Sales</th>\n",
       "      <td>38.8%</td>\n",
       "      <td>94.9%</td>\n",
       "    </tr>\n",
       "    <tr>\n",
       "      <th>Human Resources</th>\n",
       "      <td>5.1%</td>\n",
       "      <td>100.0%</td>\n",
       "    </tr>\n",
       "  </tbody>\n",
       "</table>\n",
       "</div>"
      ],
      "text/plain": [
       "                        Percent  Cumulative Percent\n",
       "Research & Development    56.1%               56.1%\n",
       "Sales                     38.8%               94.9%\n",
       "Human Resources            5.1%              100.0%"
      ]
     },
     "metadata": {},
     "output_type": "display_data"
    }
   ],
   "source": [
    "display_categorical_x_categorical_analysis(data,next(i))"
   ]
  },
  {
   "cell_type": "markdown",
   "metadata": {
    "_cell_guid": "3f8eefa2-78c9-3b00-3b4d-7a703d590f41"
   },
   "source": [
    "# Employees educated in life sciences or medical together make up ~64% of the attrition sample."
   ]
  },
  {
   "cell_type": "code",
   "execution_count": 21,
   "metadata": {
    "_cell_guid": "2e683109-9212-4e21-4b9a-509cf0985987"
   },
   "outputs": [
    {
     "data": {
      "image/png": "[encoded data removed]",
      "text/plain": [
       "<matplotlib.figure.Figure at 0x1ffc028cbe0>"
      ]
     },
     "metadata": {},
     "output_type": "display_data"
    },
    {
     "name": "stdout",
     "output_type": "stream",
     "text": [
      "Yes Only\n",
      "Total Count: 237\n"
     ]
    },
    {
     "data": {
      "text/html": [
       "<div>\n",
       "<table border=\"1\" class=\"dataframe\">\n",
       "  <thead>\n",
       "    <tr style=\"text-align: right;\">\n",
       "      <th></th>\n",
       "      <th>Percent</th>\n",
       "      <th>Cumulative Percent</th>\n",
       "    </tr>\n",
       "  </thead>\n",
       "  <tbody>\n",
       "    <tr>\n",
       "      <th>Life Sciences</th>\n",
       "      <td>37.6%</td>\n",
       "      <td>37.6%</td>\n",
       "    </tr>\n",
       "    <tr>\n",
       "      <th>Medical</th>\n",
       "      <td>26.6%</td>\n",
       "      <td>64.1%</td>\n",
       "    </tr>\n",
       "    <tr>\n",
       "      <th>Marketing</th>\n",
       "      <td>14.8%</td>\n",
       "      <td>78.9%</td>\n",
       "    </tr>\n",
       "    <tr>\n",
       "      <th>Technical Degree</th>\n",
       "      <td>13.5%</td>\n",
       "      <td>92.4%</td>\n",
       "    </tr>\n",
       "    <tr>\n",
       "      <th>Other</th>\n",
       "      <td>4.6%</td>\n",
       "      <td>97.0%</td>\n",
       "    </tr>\n",
       "    <tr>\n",
       "      <th>Human Resources</th>\n",
       "      <td>3.0%</td>\n",
       "      <td>100.0%</td>\n",
       "    </tr>\n",
       "  </tbody>\n",
       "</table>\n",
       "</div>"
      ],
      "text/plain": [
       "                  Percent  Cumulative Percent\n",
       "Life Sciences       37.6%               37.6%\n",
       "Medical             26.6%               64.1%\n",
       "Marketing           14.8%               78.9%\n",
       "Technical Degree    13.5%               92.4%\n",
       "Other                4.6%               97.0%\n",
       "Human Resources      3.0%              100.0%"
      ]
     },
     "metadata": {},
     "output_type": "display_data"
    }
   ],
   "source": [
    "display_categorical_x_categorical_analysis(data,next(i))"
   ]
  },
  {
   "cell_type": "markdown",
   "metadata": {
    "_cell_guid": "0e24a213-f381-9399-d55b-8d3284c79276"
   },
   "source": [
    "# 70% of attrition sample is made up from laboratory technicians,  sale executives, and research scientists."
   ]
  },
  {
   "cell_type": "code",
   "execution_count": 22,
   "metadata": {
    "_cell_guid": "e544ec53-5695-b32b-2eb5-22923bef9ff4"
   },
   "outputs": [
    {
     "data": {
      "image/png": "[encoded data removed]",
      "text/plain": [
       "<matplotlib.figure.Figure at 0x1ffc20a7cc0>"
      ]
     },
     "metadata": {},
     "output_type": "display_data"
    },
    {
     "name": "stdout",
     "output_type": "stream",
     "text": [
      "Yes Only\n",
      "Total Count: 237\n"
     ]
    },
    {
     "data": {
      "text/html": [
       "<div>\n",
       "<table border=\"1\" class=\"dataframe\">\n",
       "  <thead>\n",
       "    <tr style=\"text-align: right;\">\n",
       "      <th></th>\n",
       "      <th>Percent</th>\n",
       "      <th>Cumulative Percent</th>\n",
       "    </tr>\n",
       "  </thead>\n",
       "  <tbody>\n",
       "    <tr>\n",
       "      <th>Laboratory Technician</th>\n",
       "      <td>26.2%</td>\n",
       "      <td>26.2%</td>\n",
       "    </tr>\n",
       "    <tr>\n",
       "      <th>Sales Executive</th>\n",
       "      <td>24.1%</td>\n",
       "      <td>50.2%</td>\n",
       "    </tr>\n",
       "    <tr>\n",
       "      <th>Research Scientist</th>\n",
       "      <td>19.8%</td>\n",
       "      <td>70.0%</td>\n",
       "    </tr>\n",
       "    <tr>\n",
       "      <th>Sales Representative</th>\n",
       "      <td>13.9%</td>\n",
       "      <td>84.0%</td>\n",
       "    </tr>\n",
       "    <tr>\n",
       "      <th>Human Resources</th>\n",
       "      <td>5.1%</td>\n",
       "      <td>89.0%</td>\n",
       "    </tr>\n",
       "    <tr>\n",
       "      <th>Manufacturing Director</th>\n",
       "      <td>4.2%</td>\n",
       "      <td>93.2%</td>\n",
       "    </tr>\n",
       "    <tr>\n",
       "      <th>Healthcare Representative</th>\n",
       "      <td>3.8%</td>\n",
       "      <td>97.0%</td>\n",
       "    </tr>\n",
       "    <tr>\n",
       "      <th>Manager</th>\n",
       "      <td>2.1%</td>\n",
       "      <td>99.2%</td>\n",
       "    </tr>\n",
       "    <tr>\n",
       "      <th>Research Director</th>\n",
       "      <td>0.8%</td>\n",
       "      <td>100.0%</td>\n",
       "    </tr>\n",
       "  </tbody>\n",
       "</table>\n",
       "</div>"
      ],
      "text/plain": [
       "                           Percent  Cumulative Percent\n",
       "Laboratory Technician        26.2%               26.2%\n",
       "Sales Executive              24.1%               50.2%\n",
       "Research Scientist           19.8%               70.0%\n",
       "Sales Representative         13.9%               84.0%\n",
       "Human Resources               5.1%               89.0%\n",
       "Manufacturing Director        4.2%               93.2%\n",
       "Healthcare Representative     3.8%               97.0%\n",
       "Manager                       2.1%               99.2%\n",
       "Research Director             0.8%              100.0%"
      ]
     },
     "metadata": {},
     "output_type": "display_data"
    }
   ],
   "source": [
    "display_categorical_x_categorical_analysis(data,next(i))"
   ]
  },
  {
   "cell_type": "markdown",
   "metadata": {
    "_cell_guid": "ff4fd78e-8226-832d-8771-a9000d635a60"
   },
   "source": [
    "# Employees with the relationship status as single make up over 50% attrition sample."
   ]
  },
  {
   "cell_type": "code",
   "execution_count": 23,
   "metadata": {
    "_cell_guid": "eb73126b-a27b-c980-a1ae-edd3d1c44329"
   },
   "outputs": [
    {
     "data": {
      "image/png": "[encoded data removed]",
      "text/plain": [
       "<matplotlib.figure.Figure at 0x1ffc227d080>"
      ]
     },
     "metadata": {},
     "output_type": "display_data"
    },
    {
     "name": "stdout",
     "output_type": "stream",
     "text": [
      "Yes Only\n",
      "Total Count: 237\n"
     ]
    },
    {
     "data": {
      "text/html": [
       "<div>\n",
       "<table border=\"1\" class=\"dataframe\">\n",
       "  <thead>\n",
       "    <tr style=\"text-align: right;\">\n",
       "      <th></th>\n",
       "      <th>Percent</th>\n",
       "      <th>Cumulative Percent</th>\n",
       "    </tr>\n",
       "  </thead>\n",
       "  <tbody>\n",
       "    <tr>\n",
       "      <th>Single</th>\n",
       "      <td>50.6%</td>\n",
       "      <td>50.6%</td>\n",
       "    </tr>\n",
       "    <tr>\n",
       "      <th>Married</th>\n",
       "      <td>35.4%</td>\n",
       "      <td>86.1%</td>\n",
       "    </tr>\n",
       "    <tr>\n",
       "      <th>Divorced</th>\n",
       "      <td>13.9%</td>\n",
       "      <td>100.0%</td>\n",
       "    </tr>\n",
       "  </tbody>\n",
       "</table>\n",
       "</div>"
      ],
      "text/plain": [
       "          Percent  Cumulative Percent\n",
       "Single      50.6%               50.6%\n",
       "Married     35.4%               86.1%\n",
       "Divorced    13.9%              100.0%"
      ]
     },
     "metadata": {},
     "output_type": "display_data"
    }
   ],
   "source": [
    "display_categorical_x_categorical_analysis(data,next(i))"
   ]
  },
  {
   "cell_type": "markdown",
   "metadata": {
    "_cell_guid": "69065718-948a-7893-88e8-8cf514e2be9f"
   },
   "source": [
    "# The ratio of employees working overtime is drastically different across Yes vs No samples. "
   ]
  },
  {
   "cell_type": "code",
   "execution_count": 24,
   "metadata": {
    "_cell_guid": "1a14df11-64a0-42b9-3dc9-e2f4c4b8295a"
   },
   "outputs": [
    {
     "data": {
      "image/png": "[encoded data removed]",
      "text/plain": [
       "<matplotlib.figure.Figure at 0x1ffc21d16a0>"
      ]
     },
     "metadata": {},
     "output_type": "display_data"
    },
    {
     "name": "stdout",
     "output_type": "stream",
     "text": [
      "Yes Only\n",
      "Total Count: 237\n"
     ]
    },
    {
     "data": {
      "text/html": [
       "<div>\n",
       "<table border=\"1\" class=\"dataframe\">\n",
       "  <thead>\n",
       "    <tr style=\"text-align: right;\">\n",
       "      <th></th>\n",
       "      <th>Percent</th>\n",
       "      <th>Cumulative Percent</th>\n",
       "    </tr>\n",
       "  </thead>\n",
       "  <tbody>\n",
       "    <tr>\n",
       "      <th>Yes</th>\n",
       "      <td>53.6%</td>\n",
       "      <td>53.6%</td>\n",
       "    </tr>\n",
       "    <tr>\n",
       "      <th>No</th>\n",
       "      <td>46.4%</td>\n",
       "      <td>100.0%</td>\n",
       "    </tr>\n",
       "  </tbody>\n",
       "</table>\n",
       "</div>"
      ],
      "text/plain": [
       "     Percent  Cumulative Percent\n",
       "Yes    53.6%               53.6%\n",
       "No     46.4%              100.0%"
      ]
     },
     "metadata": {},
     "output_type": "display_data"
    }
   ],
   "source": [
    "display_categorical_x_categorical_analysis(data,next(i))"
   ]
  },
  {
   "cell_type": "markdown",
   "metadata": {
    "_cell_guid": "9ad69072-2428-6e6e-ceae-85caf1eee2e4"
   },
   "source": [
    "# The distribution of environment satisfaction ratings are different for employees lost in attrition vs those who stayed. "
   ]
  },
  {
   "cell_type": "code",
   "execution_count": 25,
   "metadata": {
    "_cell_guid": "7ebec713-60bc-cc5f-11fb-4527d0ef32e4"
   },
   "outputs": [
    {
     "data": {
      "image/png": "[encoded data removed]",
      "text/plain": [
       "<matplotlib.figure.Figure at 0x1ffc2165cf8>"
      ]
     },
     "metadata": {},
     "output_type": "display_data"
    },
    {
     "name": "stdout",
     "output_type": "stream",
     "text": [
      "Yes Only\n",
      "Total Count: 237\n"
     ]
    },
    {
     "data": {
      "text/html": [
       "<div>\n",
       "<table border=\"1\" class=\"dataframe\">\n",
       "  <thead>\n",
       "    <tr style=\"text-align: right;\">\n",
       "      <th></th>\n",
       "      <th>Percent</th>\n",
       "      <th>Cumulative Percent</th>\n",
       "    </tr>\n",
       "  </thead>\n",
       "  <tbody>\n",
       "    <tr>\n",
       "      <th>1</th>\n",
       "      <td>30.4%</td>\n",
       "      <td>30.4%</td>\n",
       "    </tr>\n",
       "    <tr>\n",
       "      <th>3</th>\n",
       "      <td>26.2%</td>\n",
       "      <td>56.5%</td>\n",
       "    </tr>\n",
       "    <tr>\n",
       "      <th>4</th>\n",
       "      <td>25.3%</td>\n",
       "      <td>81.9%</td>\n",
       "    </tr>\n",
       "    <tr>\n",
       "      <th>2</th>\n",
       "      <td>18.1%</td>\n",
       "      <td>100.0%</td>\n",
       "    </tr>\n",
       "  </tbody>\n",
       "</table>\n",
       "</div>"
      ],
      "text/plain": [
       "   Percent  Cumulative Percent\n",
       "1    30.4%               30.4%\n",
       "3    26.2%               56.5%\n",
       "4    25.3%               81.9%\n",
       "2    18.1%              100.0%"
      ]
     },
     "metadata": {},
     "output_type": "display_data"
    }
   ],
   "source": [
    "display_categorical_x_categorical_analysis(data,next(i))"
   ]
  },
  {
   "cell_type": "markdown",
   "metadata": {
    "_cell_guid": "650e6e7b-ed28-736e-4519-331326b6ddd4"
   },
   "source": [
    "# ~80% of employees lost in attrition rated their level job involvement as moderate to moderately high."
   ]
  },
  {
   "cell_type": "code",
   "execution_count": 26,
   "metadata": {
    "_cell_guid": "d4c8f9e2-54c3-bcd1-b7cc-70c456329e6b"
   },
   "outputs": [
    {
     "data": {
      "image/png": "[encoded data removed]",
      "text/plain": [
       "<matplotlib.figure.Figure at 0x1ffc24af6a0>"
      ]
     },
     "metadata": {},
     "output_type": "display_data"
    },
    {
     "name": "stdout",
     "output_type": "stream",
     "text": [
      "Yes Only\n",
      "Total Count: 237\n"
     ]
    },
    {
     "data": {
      "text/html": [
       "<div>\n",
       "<table border=\"1\" class=\"dataframe\">\n",
       "  <thead>\n",
       "    <tr style=\"text-align: right;\">\n",
       "      <th></th>\n",
       "      <th>Percent</th>\n",
       "      <th>Cumulative Percent</th>\n",
       "    </tr>\n",
       "  </thead>\n",
       "  <tbody>\n",
       "    <tr>\n",
       "      <th>3</th>\n",
       "      <td>52.7%</td>\n",
       "      <td>52.7%</td>\n",
       "    </tr>\n",
       "    <tr>\n",
       "      <th>2</th>\n",
       "      <td>30.0%</td>\n",
       "      <td>82.7%</td>\n",
       "    </tr>\n",
       "    <tr>\n",
       "      <th>1</th>\n",
       "      <td>11.8%</td>\n",
       "      <td>94.5%</td>\n",
       "    </tr>\n",
       "    <tr>\n",
       "      <th>4</th>\n",
       "      <td>5.5%</td>\n",
       "      <td>100.0%</td>\n",
       "    </tr>\n",
       "  </tbody>\n",
       "</table>\n",
       "</div>"
      ],
      "text/plain": [
       "   Percent  Cumulative Percent\n",
       "3    52.7%               52.7%\n",
       "2    30.0%               82.7%\n",
       "1    11.8%               94.5%\n",
       "4     5.5%              100.0%"
      ]
     },
     "metadata": {},
     "output_type": "display_data"
    }
   ],
   "source": [
    "display_categorical_x_categorical_analysis(data,next(i))"
   ]
  },
  {
   "cell_type": "markdown",
   "metadata": {
    "_cell_guid": "28cd4a12-06fa-592b-5981-58011e279a40"
   },
   "source": [
    "# Entry level employees make up 60% of the attrition sample"
   ]
  },
  {
   "cell_type": "code",
   "execution_count": 27,
   "metadata": {
    "_cell_guid": "f2a9ccda-4ff1-93f3-02e1-6df9d7cf48bf"
   },
   "outputs": [
    {
     "data": {
      "image/png": "[encoded data removed]",
      "text/plain": [
       "<matplotlib.figure.Figure at 0x1ffc20a5fd0>"
      ]
     },
     "metadata": {},
     "output_type": "display_data"
    },
    {
     "name": "stdout",
     "output_type": "stream",
     "text": [
      "Yes Only\n",
      "Total Count: 237\n"
     ]
    },
    {
     "data": {
      "text/html": [
       "<div>\n",
       "<table border=\"1\" class=\"dataframe\">\n",
       "  <thead>\n",
       "    <tr style=\"text-align: right;\">\n",
       "      <th></th>\n",
       "      <th>Percent</th>\n",
       "      <th>Cumulative Percent</th>\n",
       "    </tr>\n",
       "  </thead>\n",
       "  <tbody>\n",
       "    <tr>\n",
       "      <th>1</th>\n",
       "      <td>60.3%</td>\n",
       "      <td>60.3%</td>\n",
       "    </tr>\n",
       "    <tr>\n",
       "      <th>2</th>\n",
       "      <td>21.9%</td>\n",
       "      <td>82.3%</td>\n",
       "    </tr>\n",
       "    <tr>\n",
       "      <th>3</th>\n",
       "      <td>13.5%</td>\n",
       "      <td>95.8%</td>\n",
       "    </tr>\n",
       "    <tr>\n",
       "      <th>4</th>\n",
       "      <td>2.1%</td>\n",
       "      <td>97.9%</td>\n",
       "    </tr>\n",
       "    <tr>\n",
       "      <th>5</th>\n",
       "      <td>2.1%</td>\n",
       "      <td>100.0%</td>\n",
       "    </tr>\n",
       "  </tbody>\n",
       "</table>\n",
       "</div>"
      ],
      "text/plain": [
       "   Percent  Cumulative Percent\n",
       "1    60.3%               60.3%\n",
       "2    21.9%               82.3%\n",
       "3    13.5%               95.8%\n",
       "4     2.1%               97.9%\n",
       "5     2.1%              100.0%"
      ]
     },
     "metadata": {},
     "output_type": "display_data"
    }
   ],
   "source": [
    "display_categorical_x_categorical_analysis(data,next(i))"
   ]
  },
  {
   "cell_type": "markdown",
   "metadata": {
    "_cell_guid": "5b2f6a66-d954-1d25-2089-a03864dea069"
   },
   "source": [
    "# Employees who stay had job satisfactions ratings ratio more positively biased than those lost in attrition."
   ]
  },
  {
   "cell_type": "code",
   "execution_count": 28,
   "metadata": {
    "_cell_guid": "03cf7b48-cf1b-8b23-2470-99469f9bcc46"
   },
   "outputs": [
    {
     "data": {
      "image/png": "[encoded data removed]",
      "text/plain": [
       "<matplotlib.figure.Figure at 0x1ffc20694e0>"
      ]
     },
     "metadata": {},
     "output_type": "display_data"
    },
    {
     "name": "stdout",
     "output_type": "stream",
     "text": [
      "Yes Only\n",
      "Total Count: 237\n"
     ]
    },
    {
     "data": {
      "text/html": [
       "<div>\n",
       "<table border=\"1\" class=\"dataframe\">\n",
       "  <thead>\n",
       "    <tr style=\"text-align: right;\">\n",
       "      <th></th>\n",
       "      <th>Percent</th>\n",
       "      <th>Cumulative Percent</th>\n",
       "    </tr>\n",
       "  </thead>\n",
       "  <tbody>\n",
       "    <tr>\n",
       "      <th>3</th>\n",
       "      <td>30.8%</td>\n",
       "      <td>30.8%</td>\n",
       "    </tr>\n",
       "    <tr>\n",
       "      <th>1</th>\n",
       "      <td>27.8%</td>\n",
       "      <td>58.6%</td>\n",
       "    </tr>\n",
       "    <tr>\n",
       "      <th>4</th>\n",
       "      <td>21.9%</td>\n",
       "      <td>80.6%</td>\n",
       "    </tr>\n",
       "    <tr>\n",
       "      <th>2</th>\n",
       "      <td>19.4%</td>\n",
       "      <td>100.0%</td>\n",
       "    </tr>\n",
       "  </tbody>\n",
       "</table>\n",
       "</div>"
      ],
      "text/plain": [
       "   Percent  Cumulative Percent\n",
       "3    30.8%               30.8%\n",
       "1    27.8%               58.6%\n",
       "4    21.9%               80.6%\n",
       "2    19.4%              100.0%"
      ]
     },
     "metadata": {},
     "output_type": "display_data"
    }
   ],
   "source": [
    "display_categorical_x_categorical_analysis(data,next(i))"
   ]
  },
  {
   "cell_type": "markdown",
   "metadata": {
    "_cell_guid": "115dec88-b4b2-075c-09a7-6b5159ecd029"
   },
   "source": [
    "# Employees lost in attrition had 65% of its members possessing stock option level at 0."
   ]
  },
  {
   "cell_type": "code",
   "execution_count": 29,
   "metadata": {
    "_cell_guid": "f018d080-bf4b-4512-6db3-e127a8bbfb79"
   },
   "outputs": [
    {
     "data": {
      "image/png": "[encoded data removed]",
      "text/plain": [
       "<matplotlib.figure.Figure at 0x1ffc21ea898>"
      ]
     },
     "metadata": {},
     "output_type": "display_data"
    },
    {
     "name": "stdout",
     "output_type": "stream",
     "text": [
      "Yes Only\n",
      "Total Count: 237\n"
     ]
    },
    {
     "data": {
      "text/html": [
       "<div>\n",
       "<table border=\"1\" class=\"dataframe\">\n",
       "  <thead>\n",
       "    <tr style=\"text-align: right;\">\n",
       "      <th></th>\n",
       "      <th>Percent</th>\n",
       "      <th>Cumulative Percent</th>\n",
       "    </tr>\n",
       "  </thead>\n",
       "  <tbody>\n",
       "    <tr>\n",
       "      <th>0</th>\n",
       "      <td>65.0%</td>\n",
       "      <td>65.0%</td>\n",
       "    </tr>\n",
       "    <tr>\n",
       "      <th>1</th>\n",
       "      <td>23.6%</td>\n",
       "      <td>88.6%</td>\n",
       "    </tr>\n",
       "    <tr>\n",
       "      <th>3</th>\n",
       "      <td>6.3%</td>\n",
       "      <td>94.9%</td>\n",
       "    </tr>\n",
       "    <tr>\n",
       "      <th>2</th>\n",
       "      <td>5.1%</td>\n",
       "      <td>100.0%</td>\n",
       "    </tr>\n",
       "  </tbody>\n",
       "</table>\n",
       "</div>"
      ],
      "text/plain": [
       "   Percent  Cumulative Percent\n",
       "0    65.0%               65.0%\n",
       "1    23.6%               88.6%\n",
       "3     6.3%               94.9%\n",
       "2     5.1%              100.0%"
      ]
     },
     "metadata": {},
     "output_type": "display_data"
    }
   ],
   "source": [
    "display_categorical_x_categorical_analysis(data,next(i))"
   ]
  },
  {
   "cell_type": "markdown",
   "metadata": {
    "_cell_guid": "c320a6f8-fb7b-7cff-c4b7-5581f11c8954"
   },
   "source": [
    "# Employees lost in attrition had ~70% of members trained 2 - 3 times a year. "
   ]
  },
  {
   "cell_type": "code",
   "execution_count": 30,
   "metadata": {
    "_cell_guid": "4fe033dc-1fa3-290b-c79a-4ad05e8e3b8b"
   },
   "outputs": [
    {
     "data": {
      "image/png": "[encoded data removed]",
      "text/plain": [
       "<matplotlib.figure.Figure at 0x1ffc2392b38>"
      ]
     },
     "metadata": {},
     "output_type": "display_data"
    },
    {
     "name": "stdout",
     "output_type": "stream",
     "text": [
      "Yes Only\n",
      "Total Count: 237\n"
     ]
    },
    {
     "data": {
      "text/html": [
       "<div>\n",
       "<table border=\"1\" class=\"dataframe\">\n",
       "  <thead>\n",
       "    <tr style=\"text-align: right;\">\n",
       "      <th></th>\n",
       "      <th>Percent</th>\n",
       "      <th>Cumulative Percent</th>\n",
       "    </tr>\n",
       "  </thead>\n",
       "  <tbody>\n",
       "    <tr>\n",
       "      <th>2</th>\n",
       "      <td>41.4%</td>\n",
       "      <td>41.4%</td>\n",
       "    </tr>\n",
       "    <tr>\n",
       "      <th>3</th>\n",
       "      <td>29.1%</td>\n",
       "      <td>70.5%</td>\n",
       "    </tr>\n",
       "    <tr>\n",
       "      <th>4</th>\n",
       "      <td>11.0%</td>\n",
       "      <td>81.4%</td>\n",
       "    </tr>\n",
       "    <tr>\n",
       "      <th>0</th>\n",
       "      <td>6.3%</td>\n",
       "      <td>87.8%</td>\n",
       "    </tr>\n",
       "    <tr>\n",
       "      <th>5</th>\n",
       "      <td>5.9%</td>\n",
       "      <td>93.7%</td>\n",
       "    </tr>\n",
       "    <tr>\n",
       "      <th>1</th>\n",
       "      <td>3.8%</td>\n",
       "      <td>97.5%</td>\n",
       "    </tr>\n",
       "    <tr>\n",
       "      <th>6</th>\n",
       "      <td>2.5%</td>\n",
       "      <td>100.0%</td>\n",
       "    </tr>\n",
       "  </tbody>\n",
       "</table>\n",
       "</div>"
      ],
      "text/plain": [
       "   Percent  Cumulative Percent\n",
       "2    41.4%               41.4%\n",
       "3    29.1%               70.5%\n",
       "4    11.0%               81.4%\n",
       "0     6.3%               87.8%\n",
       "5     5.9%               93.7%\n",
       "1     3.8%               97.5%\n",
       "6     2.5%              100.0%"
      ]
     },
     "metadata": {},
     "output_type": "display_data"
    }
   ],
   "source": [
    "display_categorical_x_categorical_analysis(data,next(i))"
   ]
  },
  {
   "cell_type": "markdown",
   "metadata": {
    "_cell_guid": "f953569f-4da4-a382-4319-22da3e2c6814"
   },
   "source": [
    "# ~78% of employees lost in attrition rated their worklife balance as moderate to moderately high."
   ]
  },
  {
   "cell_type": "code",
   "execution_count": 31,
   "metadata": {
    "_cell_guid": "86a3d71e-446d-7f4a-9a20-7691b437f822",
    "collapsed": true
   },
   "outputs": [
    {
     "data": {
      "image/png": "[encoded data removed]",
      "text/plain": [
       "<matplotlib.figure.Figure at 0x1ffc22fcdd8>"
      ]
     },
     "metadata": {},
     "output_type": "display_data"
    },
    {
     "name": "stdout",
     "output_type": "stream",
     "text": [
      "Yes Only\n",
      "Total Count: 237\n"
     ]
    },
    {
     "data": {
      "text/html": [
       "<div>\n",
       "<table border=\"1\" class=\"dataframe\">\n",
       "  <thead>\n",
       "    <tr style=\"text-align: right;\">\n",
       "      <th></th>\n",
       "      <th>Percent</th>\n",
       "      <th>Cumulative Percent</th>\n",
       "    </tr>\n",
       "  </thead>\n",
       "  <tbody>\n",
       "    <tr>\n",
       "      <th>3</th>\n",
       "      <td>53.6%</td>\n",
       "      <td>53.6%</td>\n",
       "    </tr>\n",
       "    <tr>\n",
       "      <th>2</th>\n",
       "      <td>24.5%</td>\n",
       "      <td>78.1%</td>\n",
       "    </tr>\n",
       "    <tr>\n",
       "      <th>4</th>\n",
       "      <td>11.4%</td>\n",
       "      <td>89.5%</td>\n",
       "    </tr>\n",
       "    <tr>\n",
       "      <th>1</th>\n",
       "      <td>10.5%</td>\n",
       "      <td>100.0%</td>\n",
       "    </tr>\n",
       "  </tbody>\n",
       "</table>\n",
       "</div>"
      ],
      "text/plain": [
       "   Percent  Cumulative Percent\n",
       "3    53.6%               53.6%\n",
       "2    24.5%               78.1%\n",
       "4    11.4%               89.5%\n",
       "1    10.5%              100.0%"
      ]
     },
     "metadata": {},
     "output_type": "display_data"
    }
   ],
   "source": [
    "display_categorical_x_categorical_analysis(data,next(i))"
   ]
  },
  {
   "cell_type": "markdown",
   "metadata": {
    "_cell_guid": "9b434c8a-1b2a-4e67-1818-cbdde0195f2d"
   },
   "source": [
    "----------\n",
    "\n",
    "### Read more:\n",
    "- [IBM Employee Attrition Analysis by Numerics][1]\n",
    "  [1]: https://www.kaggle.com/slamnz/d/pavansubhasht/ibm-hr-analytics-attrition-dataset/ibm-employee-attrition-analysis-by-numerics/"
   ]
  },
  {
   "cell_type": "code",
   "execution_count": 32,
   "metadata": {
    "_cell_guid": "50a09148-1c80-07ae-3191-a7102fe46b63",
    "collapsed": true
   },
   "outputs": [],
   "source": []
  }
 ],
 "metadata": {
  "_change_revision": 3,
  "_is_fork": false,
  "kernelspec": {
   "display_name": "Python 3",
   "language": "python",
   "name": "python3"
  },
  "language_info": {
   "codemirror_mode": {
    "name": "ipython",
    "version": 3
   },
   "file_extension": ".py",
   "mimetype": "text/x-python",
   "name": "python",
   "nbconvert_exporter": "python",
   "pygments_lexer": "ipython3",
   "version": "3.5.2"
  }
 },
 "nbformat": 4,
 "nbformat_minor": 1
}
