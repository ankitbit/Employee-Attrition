{
 "cells": [
  {
   "cell_type": "markdown",
   "metadata": {
    "_cell_guid": "6ec85556-c52a-d279-8c95-6787a8520ca8"
   },
   "source": [
    "# Introduction \n",
    "\n",
    "The issue of keeping one's employees happy and satisfied is a perennial and age-old challenge. If an employee you have invested so much time and money leaves for \"greener pastures\",  then this would mean that you would have to spend even more time and money to hire somebody else. In the spirit of Kaggle, let us therefore turn to our predictive modelling capabilities and see if we can predict employee attrition on this IBM dataset. \n",
    "\n",
    "This notebook is structured as follows:\n",
    "\n",
    " 1. **Exploratory Data Analysis** : In this section, we explore the dataset by taking a look at the feature distributions, how correlated one feature is to the other and create some Seaborn and Plotly visualisations\n",
    " 2. **Feature Engineering and Categorical Encoding** : Conduct some feature engineering as well as encode all our categorical features into dummy variables\n",
    " 3. **Implementing Machine Learning models** : We implement a Random Forest and a Gradient Boosted Model after which we look at feature importances from these respective models\n",
    "\n",
    "Let's Go."
   ]
  },
  {
   "cell_type": "code",
   "execution_count": 1,
   "metadata": {
    "_cell_guid": "adfbe30e-7ebb-0f88-d917-d9a8f97c638e"
   },
   "outputs": [
    {
     "name": "stderr",
     "output_type": "stream",
     "text": [
      "F:\\Anaconda3\\envs\\tensorflow-gpu\\lib\\site-packages\\IPython\\html.py:14: ShimWarning: The `IPython.html` package has been deprecated since IPython 4.0. You should import from `notebook` instead. `IPython.html.widgets` has moved to `ipywidgets`.\n",
      "  \"`IPython.html.widgets` has moved to `ipywidgets`.\", ShimWarning)\n"
     ]
    },
    {
     "data": {
      "text/html": [
       "<script>requirejs.config({paths: { 'plotly': ['https://cdn.plot.ly/plotly-latest.min']},});if(!window.Plotly) {{require(['plotly'],function(plotly) {window.Plotly=plotly;});}}</script>"
      ],
      "text/plain": [
       "<IPython.core.display.HTML object>"
      ]
     },
     "metadata": {},
     "output_type": "display_data"
    },
    {
     "name": "stderr",
     "output_type": "stream",
     "text": [
      "F:\\Anaconda3\\envs\\tensorflow-gpu\\lib\\site-packages\\sklearn\\cross_validation.py:44: DeprecationWarning:\n",
      "\n",
      "This module was deprecated in version 0.18 in favor of the model_selection module into which all the refactored classes and functions are moved. Also note that the interface of the new CV iterators are different from that of this module. This module will be removed in 0.20.\n",
      "\n"
     ]
    }
   ],
   "source": [
    "# This Python 3 environment comes with many helpful analytics libraries installed\n",
    "# It is defined by the kaggle/python docker image: https://github.com/kaggle/docker-python\n",
    "# For example, here's several helpful packages to load in \n",
    "\n",
    "import numpy as np # linear algebra\n",
    "import pandas as pd # data processing, CSV file I/O (e.g. pd.read_csv)\n",
    "import seaborn as sns\n",
    "import matplotlib.pyplot as plt\n",
    "%matplotlib inline\n",
    "\n",
    "# Import statements required for Plotly \n",
    "import plotly.offline as py\n",
    "py.init_notebook_mode(connected=True)\n",
    "import plotly.graph_objs as go\n",
    "import plotly.tools as tls\n",
    "\n",
    "\n",
    "from sklearn.ensemble import RandomForestClassifier, GradientBoostingClassifier\n",
    "from sklearn.linear_model import LogisticRegression\n",
    "from sklearn.metrics import accuracy_score, log_loss\n",
    "from imblearn.over_sampling import SMOTE\n",
    "import xgboost\n",
    "\n",
    "# Import and suppress warnings\n",
    "import warnings\n",
    "warnings.filterwarnings('ignore')"
   ]
  },
  {
   "cell_type": "markdown",
   "metadata": {
    "_cell_guid": "5af03c82-cb84-d943-f82c-fc0a15d46b48"
   },
   "source": [
    "# 1. Exploratory Data Analysis\n",
    "\n",
    "Let us load in the dataset via the trusty Pandas package into a dataframe object which we call **attrition** and have a quick look at the first few rows"
   ]
  },
  {
   "cell_type": "code",
   "execution_count": 2,
   "metadata": {
    "_cell_guid": "e035b071-50f8-43ca-9611-fc47272bb05e"
   },
   "outputs": [
    {
     "data": {
      "text/html": [
       "<div>\n",
       "<table border=\"1\" class=\"dataframe\">\n",
       "  <thead>\n",
       "    <tr style=\"text-align: right;\">\n",
       "      <th></th>\n",
       "      <th>Age</th>\n",
       "      <th>Attrition</th>\n",
       "      <th>BusinessTravel</th>\n",
       "      <th>DailyRate</th>\n",
       "      <th>Department</th>\n",
       "      <th>DistanceFromHome</th>\n",
       "      <th>Education</th>\n",
       "      <th>EducationField</th>\n",
       "      <th>EmployeeCount</th>\n",
       "      <th>EmployeeNumber</th>\n",
       "      <th>...</th>\n",
       "      <th>RelationshipSatisfaction</th>\n",
       "      <th>StandardHours</th>\n",
       "      <th>StockOptionLevel</th>\n",
       "      <th>TotalWorkingYears</th>\n",
       "      <th>TrainingTimesLastYear</th>\n",
       "      <th>WorkLifeBalance</th>\n",
       "      <th>YearsAtCompany</th>\n",
       "      <th>YearsInCurrentRole</th>\n",
       "      <th>YearsSinceLastPromotion</th>\n",
       "      <th>YearsWithCurrManager</th>\n",
       "    </tr>\n",
       "  </thead>\n",
       "  <tbody>\n",
       "    <tr>\n",
       "      <th>0</th>\n",
       "      <td>41</td>\n",
       "      <td>Yes</td>\n",
       "      <td>Travel_Rarely</td>\n",
       "      <td>1102</td>\n",
       "      <td>Sales</td>\n",
       "      <td>1</td>\n",
       "      <td>2</td>\n",
       "      <td>Life Sciences</td>\n",
       "      <td>1</td>\n",
       "      <td>1</td>\n",
       "      <td>...</td>\n",
       "      <td>1</td>\n",
       "      <td>80</td>\n",
       "      <td>0</td>\n",
       "      <td>8</td>\n",
       "      <td>0</td>\n",
       "      <td>1</td>\n",
       "      <td>6</td>\n",
       "      <td>4</td>\n",
       "      <td>0</td>\n",
       "      <td>5</td>\n",
       "    </tr>\n",
       "    <tr>\n",
       "      <th>1</th>\n",
       "      <td>49</td>\n",
       "      <td>No</td>\n",
       "      <td>Travel_Frequently</td>\n",
       "      <td>279</td>\n",
       "      <td>Research &amp; Development</td>\n",
       "      <td>8</td>\n",
       "      <td>1</td>\n",
       "      <td>Life Sciences</td>\n",
       "      <td>1</td>\n",
       "      <td>2</td>\n",
       "      <td>...</td>\n",
       "      <td>4</td>\n",
       "      <td>80</td>\n",
       "      <td>1</td>\n",
       "      <td>10</td>\n",
       "      <td>3</td>\n",
       "      <td>3</td>\n",
       "      <td>10</td>\n",
       "      <td>7</td>\n",
       "      <td>1</td>\n",
       "      <td>7</td>\n",
       "    </tr>\n",
       "    <tr>\n",
       "      <th>2</th>\n",
       "      <td>37</td>\n",
       "      <td>Yes</td>\n",
       "      <td>Travel_Rarely</td>\n",
       "      <td>1373</td>\n",
       "      <td>Research &amp; Development</td>\n",
       "      <td>2</td>\n",
       "      <td>2</td>\n",
       "      <td>Other</td>\n",
       "      <td>1</td>\n",
       "      <td>4</td>\n",
       "      <td>...</td>\n",
       "      <td>2</td>\n",
       "      <td>80</td>\n",
       "      <td>0</td>\n",
       "      <td>7</td>\n",
       "      <td>3</td>\n",
       "      <td>3</td>\n",
       "      <td>0</td>\n",
       "      <td>0</td>\n",
       "      <td>0</td>\n",
       "      <td>0</td>\n",
       "    </tr>\n",
       "    <tr>\n",
       "      <th>3</th>\n",
       "      <td>33</td>\n",
       "      <td>No</td>\n",
       "      <td>Travel_Frequently</td>\n",
       "      <td>1392</td>\n",
       "      <td>Research &amp; Development</td>\n",
       "      <td>3</td>\n",
       "      <td>4</td>\n",
       "      <td>Life Sciences</td>\n",
       "      <td>1</td>\n",
       "      <td>5</td>\n",
       "      <td>...</td>\n",
       "      <td>3</td>\n",
       "      <td>80</td>\n",
       "      <td>0</td>\n",
       "      <td>8</td>\n",
       "      <td>3</td>\n",
       "      <td>3</td>\n",
       "      <td>8</td>\n",
       "      <td>7</td>\n",
       "      <td>3</td>\n",
       "      <td>0</td>\n",
       "    </tr>\n",
       "    <tr>\n",
       "      <th>4</th>\n",
       "      <td>27</td>\n",
       "      <td>No</td>\n",
       "      <td>Travel_Rarely</td>\n",
       "      <td>591</td>\n",
       "      <td>Research &amp; Development</td>\n",
       "      <td>2</td>\n",
       "      <td>1</td>\n",
       "      <td>Medical</td>\n",
       "      <td>1</td>\n",
       "      <td>7</td>\n",
       "      <td>...</td>\n",
       "      <td>4</td>\n",
       "      <td>80</td>\n",
       "      <td>1</td>\n",
       "      <td>6</td>\n",
       "      <td>3</td>\n",
       "      <td>3</td>\n",
       "      <td>2</td>\n",
       "      <td>2</td>\n",
       "      <td>2</td>\n",
       "      <td>2</td>\n",
       "    </tr>\n",
       "  </tbody>\n",
       "</table>\n",
       "<p>5 rows × 35 columns</p>\n",
       "</div>"
      ],
      "text/plain": [
       "   Age Attrition     BusinessTravel  DailyRate              Department  \\\n",
       "0   41       Yes      Travel_Rarely       1102                   Sales   \n",
       "1   49        No  Travel_Frequently        279  Research & Development   \n",
       "2   37       Yes      Travel_Rarely       1373  Research & Development   \n",
       "3   33        No  Travel_Frequently       1392  Research & Development   \n",
       "4   27        No      Travel_Rarely        591  Research & Development   \n",
       "\n",
       "   DistanceFromHome  Education EducationField  EmployeeCount  EmployeeNumber  \\\n",
       "0                 1          2  Life Sciences              1               1   \n",
       "1                 8          1  Life Sciences              1               2   \n",
       "2                 2          2          Other              1               4   \n",
       "3                 3          4  Life Sciences              1               5   \n",
       "4                 2          1        Medical              1               7   \n",
       "\n",
       "           ...           RelationshipSatisfaction StandardHours  \\\n",
       "0          ...                                  1            80   \n",
       "1          ...                                  4            80   \n",
       "2          ...                                  2            80   \n",
       "3          ...                                  3            80   \n",
       "4          ...                                  4            80   \n",
       "\n",
       "   StockOptionLevel  TotalWorkingYears  TrainingTimesLastYear WorkLifeBalance  \\\n",
       "0                 0                  8                      0               1   \n",
       "1                 1                 10                      3               3   \n",
       "2                 0                  7                      3               3   \n",
       "3                 0                  8                      3               3   \n",
       "4                 1                  6                      3               3   \n",
       "\n",
       "   YearsAtCompany YearsInCurrentRole  YearsSinceLastPromotion  \\\n",
       "0               6                  4                        0   \n",
       "1              10                  7                        1   \n",
       "2               0                  0                        0   \n",
       "3               8                  7                        3   \n",
       "4               2                  2                        2   \n",
       "\n",
       "   YearsWithCurrManager  \n",
       "0                     5  \n",
       "1                     7  \n",
       "2                     0  \n",
       "3                     0  \n",
       "4                     2  \n",
       "\n",
       "[5 rows x 35 columns]"
      ]
     },
     "execution_count": 2,
     "metadata": {},
     "output_type": "execute_result"
    }
   ],
   "source": [
    "attrition = pd.read_csv('HR_Attrition.csv')\n",
    "attrition.head()"
   ]
  },
  {
   "cell_type": "markdown",
   "metadata": {
    "_cell_guid": "8beb6c02-af60-5327-dc85-9ba988def85b"
   },
   "source": [
    "As evinced from the dataset, our target column with which we can point our model to train on would be the \"Attrition\" column. \n",
    "\n",
    "Furthermore, we see that we have a mix of numerical and categorical data types. For the categorical columns, we shall handle their numerical encoding in the latter chapter. This section will be devoted to data exploration and as a first step, let us quickly carry our some simple data completeness checks to see if there are nulls or infinite values in the data\n",
    "\n",
    "**Data quality checks**\n",
    "\n",
    "To look for any null values, we can just invoke the **isnull** call as follows"
   ]
  },
  {
   "cell_type": "code",
   "execution_count": 3,
   "metadata": {
    "_cell_guid": "57e2bf45-5920-af03-50c1-b5bba334eb11"
   },
   "outputs": [
    {
     "data": {
      "text/plain": [
       "Age                         False\n",
       "Attrition                   False\n",
       "BusinessTravel              False\n",
       "DailyRate                   False\n",
       "Department                  False\n",
       "DistanceFromHome            False\n",
       "Education                   False\n",
       "EducationField              False\n",
       "EmployeeCount               False\n",
       "EmployeeNumber              False\n",
       "EnvironmentSatisfaction     False\n",
       "Gender                      False\n",
       "HourlyRate                  False\n",
       "JobInvolvement              False\n",
       "JobLevel                    False\n",
       "JobRole                     False\n",
       "JobSatisfaction             False\n",
       "MaritalStatus               False\n",
       "MonthlyIncome               False\n",
       "MonthlyRate                 False\n",
       "NumCompaniesWorked          False\n",
       "Over18                      False\n",
       "OverTime                    False\n",
       "PercentSalaryHike           False\n",
       "PerformanceRating           False\n",
       "RelationshipSatisfaction    False\n",
       "StandardHours               False\n",
       "StockOptionLevel            False\n",
       "TotalWorkingYears           False\n",
       "TrainingTimesLastYear       False\n",
       "WorkLifeBalance             False\n",
       "YearsAtCompany              False\n",
       "YearsInCurrentRole          False\n",
       "YearsSinceLastPromotion     False\n",
       "YearsWithCurrManager        False\n",
       "dtype: bool"
      ]
     },
     "execution_count": 3,
     "metadata": {},
     "output_type": "execute_result"
    }
   ],
   "source": [
    "# Looking for NaN\n",
    "attrition.isnull().any()"
   ]
  },
  {
   "cell_type": "markdown",
   "metadata": {
    "_cell_guid": "d33af20c-a8a1-2341-d0c1-fb91afa51274"
   },
   "source": [
    "### Distribution of the dataset\n",
    "\n",
    "Generally one of the first few steps in exploring the data would be to have a rough idea of how the features are distributed with one another. To do so, I shall invoke the familiar **kdeplot** function from the Seaborn plotting library and this generates bivariate plots as follows:"
   ]
  },
  {
   "cell_type": "code",
   "execution_count": 4,
   "metadata": {
    "_cell_guid": "4bbd2965-fb1f-6a9d-6661-cb02988c2299"
   },
   "outputs": [
    {
     "data": {
      "image/png": "[encoded data removed]",
      "text/plain": [
       "<matplotlib.figure.Figure at 0x1e4da360668>"
      ]
     },
     "metadata": {},
     "output_type": "display_data"
    }
   ],
   "source": [
    "# Plotting the KDEplots\n",
    "f, axes = plt.subplots(3, 3, figsize=(10, 10), sharex=False, sharey=False)\n",
    "\n",
    "# Defining our colormap scheme\n",
    "s = np.linspace(0, 3, 10)\n",
    "cmap = sns.cubehelix_palette(start=0.0, light=1, as_cmap=True)\n",
    "\n",
    "# Generate and plot\n",
    "x = attrition['Age'].values\n",
    "y = attrition['TotalWorkingYears'].values\n",
    "sns.kdeplot(x, y, cmap=cmap, shade=True, cut=5, ax=axes[0,0])\n",
    "axes[0,0].set( title = 'Age against Total working years')\n",
    "\n",
    "cmap = sns.cubehelix_palette(start=0.333333333333, light=1, as_cmap=True)\n",
    "# Generate and plot\n",
    "x = attrition['Age'].values\n",
    "y = attrition['DailyRate'].values\n",
    "sns.kdeplot(x, y, cmap=cmap, shade=True, ax=axes[0,1])\n",
    "axes[0,1].set( title = 'Age against Daily Rate')\n",
    "\n",
    "cmap = sns.cubehelix_palette(start=0.666666666667, light=1, as_cmap=True)\n",
    "# Generate and plot\n",
    "x = attrition['YearsInCurrentRole'].values\n",
    "y = attrition['Age'].values\n",
    "sns.kdeplot(x, y, cmap=cmap, shade=True, ax=axes[0,2])\n",
    "axes[0,2].set( title = 'Years in role against Age')\n",
    "\n",
    "cmap = sns.cubehelix_palette(start=1.0, light=1, as_cmap=True)\n",
    "# Generate and plot\n",
    "x = attrition['DailyRate'].values\n",
    "y = attrition['DistanceFromHome'].values\n",
    "sns.kdeplot(x, y, cmap=cmap, shade=True,  ax=axes[1,0])\n",
    "axes[1,0].set( title = 'Daily Rate against DistancefromHome')\n",
    "\n",
    "cmap = sns.cubehelix_palette(start=1.333333333333, light=1, as_cmap=True)\n",
    "# Generate and plot\n",
    "x = attrition['DailyRate'].values\n",
    "y = attrition['JobSatisfaction'].values\n",
    "sns.kdeplot(x, y, cmap=cmap, shade=True,  ax=axes[1,1])\n",
    "axes[1,1].set( title = 'Daily Rate against Job satisfaction')\n",
    "\n",
    "cmap = sns.cubehelix_palette(start=1.666666666667, light=1, as_cmap=True)\n",
    "# Generate and plot\n",
    "x = attrition['YearsAtCompany'].values\n",
    "y = attrition['JobSatisfaction'].values\n",
    "sns.kdeplot(x, y, cmap=cmap, shade=True,  ax=axes[1,2])\n",
    "axes[1,2].set( title = 'Daily Rate against distance')\n",
    "\n",
    "cmap = sns.cubehelix_palette(start=2.0, light=1, as_cmap=True)\n",
    "# Generate and plot\n",
    "x = attrition['YearsAtCompany'].values\n",
    "y = attrition['DailyRate'].values\n",
    "sns.kdeplot(x, y, cmap=cmap, shade=True,  ax=axes[2,0])\n",
    "axes[2,0].set( title = 'Years at company against Daily Rate')\n",
    "\n",
    "cmap = sns.cubehelix_palette(start=2.333333333333, light=1, as_cmap=True)\n",
    "# Generate and plot\n",
    "x = attrition['RelationshipSatisfaction'].values\n",
    "y = attrition['YearsWithCurrManager'].values\n",
    "sns.kdeplot(x, y, cmap=cmap, shade=True,  ax=axes[2,1])\n",
    "axes[2,1].set( title = 'Relationship Satisfaction vs years with manager')\n",
    "\n",
    "cmap = sns.cubehelix_palette(start=2.666666666667, light=1, as_cmap=True)\n",
    "# Generate and plot\n",
    "x = attrition['WorkLifeBalance'].values\n",
    "y = attrition['JobSatisfaction'].values\n",
    "sns.kdeplot(x, y, cmap=cmap, shade=True,  ax=axes[2,2])\n",
    "axes[2,2].set( title = 'WorklifeBalance against Satisfaction')\n",
    "\n",
    "f.tight_layout()"
   ]
  },
  {
   "cell_type": "code",
   "execution_count": 5,
   "metadata": {
    "_cell_guid": "5f44820b-847c-5465-3251-e6e69ac4c3fe",
    "collapsed": true
   },
   "outputs": [],
   "source": [
    "# Define a dictionary for the target mapping\n",
    "target_map = {'Yes':1, 'No':0}\n",
    "# Use the pandas apply method to numerically encode our attrition target variable\n",
    "attrition[\"Attrition_numerical\"] = attrition[\"Attrition\"].apply(lambda x: target_map[x])"
   ]
  },
  {
   "cell_type": "markdown",
   "metadata": {
    "_cell_guid": "5c5dc2ed-7608-4d84-c4f6-c591a3be7570"
   },
   "source": [
    "### Correlation of Features\n",
    "\n",
    "The next tool in a data explorer's arsenal is that of a correlation matrix. By plotting a correlation matrix, we have a very nice overview of how the features are related to one another. For a Pandas dataframe, we can conveniently use the call **.corr** which by default provides the Pearson Correlation values of the columns pairwise in that dataframe.\n",
    "\n",
    "In this correlation plot, I will use the the Plotly library to produce a interactive Pearson correlation matrix via the Heatmap function as follows:"
   ]
  },
  {
   "cell_type": "code",
   "execution_count": 6,
   "metadata": {
    "_cell_guid": "a2266ca6-3589-f065-4ca3-f3a8fe558000"
   },
   "outputs": [
    {
     "data": {
      "text/html": [
       "<div id=\"f6d88ab0-6f73-42e6-9907-d9e481e3fb1f\" style=\"height: 700px; width: 900px;\" class=\"plotly-graph-div\"></div><script type=\"text/javascript\">require([\"plotly\"], function(Plotly) { window.PLOTLYENV=window.PLOTLYENV || {};window.PLOTLYENV.BASE_URL=\"https://plot.ly\";Plotly.newPlot(\"f6d88ab0-6f73-42e6-9907-d9e481e3fb1f\", [{\"text\": true, \"z\": [[1.0, 0.010660942645538149, -0.0016861201480870135, 0.20803373101424003, -0.010145467076855675, 0.010146427861437251, 0.02428654255096734, 0.02981995862959055, 0.5096042284323877, -0.004891877148687357, 0.49785456692658075, 0.028051167133922784, 0.29963475798369266, 0.0036335849148617645, 0.0019038955127583738, 0.053534719671228664, 0.0375097124247778, 0.6803805357911991, -0.019620818942698393, -0.021490027957098534, 0.3113087697450993, 0.21290105556556693, 0.21651336785165384, 0.20208860237515222], [0.010660942645538149, 1.0, -0.004985337352552674, -0.01680643320915765, -0.050990433654478126, 0.018354854300385467, 0.023381421528320238, 0.04613487399781132, 0.0029663348551117142, 0.03057100783714411, 0.007707058872006039, -0.032181601522581774, 0.03815343427940969, 0.022703677496334916, 0.0004732963271882408, 0.007846030957248321, 0.042142796377206686, 0.014514738706320859, 0.002452542712083261, -0.037848051005781515, -0.034054767568547466, 0.009932014960094184, -0.03322898478777197, -0.026363178228837648], [-0.0016861201480870135, -0.004985337352552674, 1.0, 0.021041825624123364, 0.032916407199243866, -0.016075326996493465, 0.031130585611766015, 0.008783279886444232, 0.00530273055449623, -0.0036688391677204214, -0.01701444474527587, 0.027472863548884053, -0.029250804197292986, 0.04023537745919304, 0.02710961848197604, 0.006557474646578711, 0.044871998853181376, 0.004628425863783853, -0.036942234339916, -0.02655600410656897, 0.009507719899011271, 0.018844999108945663, 0.010028835943115365, 0.014406048430629939], [0.20803373101424003, -0.01680643320915765, 0.021041825624123364, 1.0, 0.042070093029328424, -0.027128313256511653, 0.016774828880960865, 0.042437634318608114, 0.10158888624850132, -0.011296116736574009, 0.09496067704188856, -0.026084197160047597, 0.12631656017668416, -0.011110940860654199, -0.024538791164833422, -0.009118376696381497, 0.01842222020401694, 0.14827969653887266, -0.025100241137933486, 0.009819189309781843, 0.06911369603133874, 0.060235554120695735, 0.05425433359132035, 0.06906537825528397], [-0.010145467076855675, -0.050990433654478126, 0.032916407199243866, 0.042070093029328424, 1.0, 0.017620802485588, 0.035179212418711185, -0.006887922987035419, -0.018519193974228312, -0.046246734939416716, -0.014828515873784741, 0.012648229168459414, -0.001251032039801599, -0.012943995546151018, -0.0203588251469522, -0.06986141146763623, 0.06222669251362312, -0.014365198461300408, 0.02360316959192501, 0.010308641437966677, -0.011240463708114035, -0.008416311998425857, -0.009019064206633747, -0.009196645292770457], [0.010146427861437251, 0.018354854300385467, -0.016075326996493465, -0.027128313256511653, 0.017620802485588, 1.0, -0.04985695620300049, -0.008277598171759227, 0.001211699448913975, -0.006784352599075191, -0.006259087754780221, 0.03759962286571541, 0.012594323218943297, -0.03170119524179215, -0.029547952297681358, 0.0076653835410744765, 0.0034321577550576604, -0.0026930703885341364, -0.019359308347132335, 0.027627295460115407, 0.0014575491911166178, 0.018007460142878566, 0.016193605568453423, -0.0049987226281075076], [0.02428654255096734, 0.023381421528320238, 0.031130585611766015, 0.016774828880960865, 0.035179212418711185, -0.04985695620300049, 1.0, 0.04286064097152996, -0.027853486405547332, -0.07133462437378851, -0.015794304380892906, -0.015296749550649706, 0.022156883390196815, -0.009061986253740113, -0.0021716974278102176, 0.0013304527859505607, 0.05026339906511977, -0.002333681823322244, -0.008547685209270621, -0.004607233750264436, -0.019581616209121213, -0.02410622020878486, -0.02671558606433533, -0.020123200184066038], [0.02981995862959055, 0.04613487399781132, 0.008783279886444232, 0.042437634318608114, -0.006887922987035419, -0.008277598171759227, 0.04286064097152996, 1.0, -0.012629882671190917, -0.02147591033530702, -0.015271490778732858, -0.016322079053317184, 0.01501241324311095, -0.017204572244480576, -0.029071333439070115, 0.03429682061119727, 0.021522640378023945, -0.005533182057407529, -0.015337825759428998, -0.014616593162761336, -0.02135542697962983, 0.008716963497611708, -0.024184292365178967, 0.025975807949088905], [0.5096042284323877, 0.0029663348551117142, 0.00530273055449623, 0.10158888624850132, -0.018519193974228312, 0.001211699448913975, -0.027853486405547332, -0.012629882671190917, 1.0, -0.0019437080267456803, 0.950299913479854, 0.039562951045684296, 0.14250112381048835, -0.03473049227941859, -0.021222082108856632, 0.021641510532591626, 0.013983910528615518, 0.7822078045362802, -0.01819055019354957, 0.03781774559666627, 0.5347386873756353, 0.3894467328766716, 0.35388534696410395, 0.3752806077657263], [-0.004891877148687357, 0.03057100783714411, -0.0036688391677204214, -0.011296116736574009, -0.046246734939416716, -0.006784352599075191, -0.07133462437378851, -0.02147591033530702, -0.0019437080267456803, 1.0, -0.007156742355912731, 0.0006439169427039258, -0.05569942601274601, 0.020002039364081937, 0.0022971970637801426, -0.012453593161926874, 0.01069022612075585, -0.02018507268501687, -0.005779334958609058, -0.019458710212974534, -0.003802627948288062, -0.0023047852298301056, -0.018213567810190918, -0.02765621388428996], [0.49785456692658075, 0.007707058872006039, -0.01701444474527587, 0.09496067704188856, -0.014828515873784741, -0.006259087754780221, -0.015794304380892906, -0.015271490778732858, 0.950299913479854, -0.007156742355912731, 1.0, 0.034813626134121846, 0.14951521598969764, -0.027268586440314498, -0.017120138237390704, 0.025873436137557375, 0.005407676696812226, 0.7728932462543548, -0.021736276823893293, 0.030683081556940366, 0.5142848257331964, 0.36381766692870654, 0.34497763816542787, 0.3440788832587207], [0.028051167133922784, -0.032181601522581774, 0.027472863548884053, -0.026084197160047597, 0.012648229168459414, 0.03759962286571541, -0.015296749550649706, -0.016322079053317184, 0.039562951045684296, 0.0006439169427039258, 0.034813626134121846, 1.0, 0.017521353415571556, -0.006429345946711349, -0.00981142848936072, -0.004085329337519465, -0.034322830206661034, 0.026442471176015413, 0.0014668806322857696, 0.007963157516976974, -0.02365510670617723, -0.012814874370471655, 0.0015667995146762359, -0.036745905336769295], [0.29963475798369266, 0.03815343427940969, -0.029250804197292986, 0.12631656017668416, -0.001251032039801599, 0.012594323218943297, 0.022156883390196815, 0.01501241324311095, 0.14250112381048835, -0.05569942601274601, 0.14951521598969764, 0.017521353415571556, 1.0, -0.010238309359925531, -0.014094872753535341, 0.052733048564885456, 0.03007547509689753, 0.23763858978479374, -0.06605407172783631, -0.008365684790058657, -0.11842134024259048, -0.09075393370080816, -0.03681389238350813, -0.11031915543773214], [0.0036335849148617645, 0.022703677496334916, 0.04023537745919304, -0.011110940860654199, -0.012943995546151018, -0.03170119524179215, -0.009061986253740113, -0.017204572244480576, -0.03473049227941859, 0.020002039364081937, -0.027268586440314498, -0.006429345946711349, -0.010238309359925531, 1.0, 0.7735499964012668, -0.0404900810570771, 0.00752774782052024, -0.02060848761769149, -0.005221012351720988, -0.0032796360093679373, -0.03599126243195386, -0.0015200265442777384, -0.022154312598866084, -0.011985248472361218], [0.0019038955127583738, 0.0004732963271882408, 0.02710961848197604, -0.024538791164833422, -0.0203588251469522, -0.029547952297681358, -0.0021716974278102176, -0.029071333439070115, -0.021222082108856632, 0.0022971970637801426, -0.017120138237390704, -0.00981142848936072, -0.014094872753535341, 0.7735499964012668, 1.0, -0.03135145544245493, 0.003506471614809925, 0.006743667905952884, -0.015578881739137221, 0.002572361317682325, 0.003435126115923952, 0.03498626040719472, 0.017896066144799612, 0.022827168908479786], [0.053534719671228664, 0.007846030957248321, 0.006557474646578711, -0.009118376696381497, -0.06986141146763623, 0.0076653835410744765, 0.0013304527859505607, 0.03429682061119727, 0.021641510532591626, -0.012453593161926874, 0.025873436137557375, -0.004085329337519465, 0.052733048564885456, -0.0404900810570771, -0.03135145544245493, 1.0, -0.04595249071656096, 0.02405429182134115, 0.0024965263921170973, 0.01960440570396862, 0.019366786877455352, -0.015122914881937524, 0.033492502069353614, -0.0008674968446255921], [0.0375097124247778, 0.042142796377206686, 0.044871998853181376, 0.01842222020401694, 0.06222669251362312, 0.0034321577550576604, 0.05026339906511977, 0.021522640378023945, 0.013983910528615518, 0.01069022612075585, 0.005407676696812226, -0.034322830206661034, 0.03007547509689753, 0.00752774782052024, 0.003506471614809925, -0.04595249071656096, 1.0, 0.01013596931890164, 0.011274069611249013, 0.004128730002871822, 0.015058008028094429, 0.05081787275393108, 0.014352184864355582, 0.02469822656302997], [0.6803805357911991, 0.014514738706320859, 0.004628425863783853, 0.14827969653887266, -0.014365198461300408, -0.0026930703885341364, -0.002333681823322244, -0.005533182057407529, 0.7822078045362802, -0.02018507268501687, 0.7728932462543548, 0.026442471176015413, 0.23763858978479374, -0.02060848761769149, 0.006743667905952884, 0.02405429182134115, 0.01013596931890164, 1.0, -0.03566157127961898, 0.0010076456218964744, 0.6281331552682479, 0.4603646380118082, 0.40485775850255995, 0.4591883970831438], [-0.019620818942698393, 0.002452542712083261, -0.036942234339916, -0.025100241137933486, 0.02360316959192501, -0.019359308347132335, -0.008547685209270621, -0.015337825759428998, -0.01819055019354957, -0.005779334958609058, -0.021736276823893293, 0.0014668806322857696, -0.06605407172783631, -0.005221012351720988, -0.015578881739137221, 0.0024965263921170973, 0.011274069611249013, -0.03566157127961898, 1.0, 0.028072206603628903, 0.003568665678427497, -0.005737504337956901, -0.00206653603800598, -0.0040955260212261965], [-0.021490027957098534, -0.037848051005781515, -0.02655600410656897, 0.009819189309781843, 0.010308641437966677, 0.027627295460115407, -0.004607233750264436, -0.014616593162761336, 0.03781774559666627, -0.019458710212974534, 0.030683081556940366, 0.007963157516976974, -0.008365684790058657, -0.0032796360093679373, 0.002572361317682325, 0.01960440570396862, 0.004128730002871822, 0.0010076456218964744, 0.028072206603628903, 1.0, 0.012089185354581271, 0.04985649792220411, 0.008941249141234248, 0.002759440242340434], [0.3113087697450993, -0.034054767568547466, 0.009507719899011271, 0.06911369603133874, -0.011240463708114035, 0.0014575491911166178, -0.019581616209121213, -0.02135542697962983, 0.5347386873756353, -0.003802627948288062, 0.5142848257331964, -0.02365510670617723, -0.11842134024259048, -0.03599126243195386, 0.003435126115923952, 0.019366786877455352, 0.015058008028094429, 0.6281331552682479, 0.003568665678427497, 0.012089185354581271, 1.0, 0.7587537366134616, 0.618408865217602, 0.7692124251006991], [0.21290105556556693, 0.009932014960094184, 0.018844999108945663, 0.060235554120695735, -0.008416311998425857, 0.018007460142878566, -0.02410622020878486, 0.008716963497611708, 0.3894467328766716, -0.0023047852298301056, 0.36381766692870654, -0.012814874370471655, -0.09075393370080816, -0.0015200265442777384, 0.03498626040719472, -0.015122914881937524, 0.05081787275393108, 0.4603646380118082, -0.005737504337956901, 0.04985649792220411, 0.7587537366134616, 1.0, 0.5480562476995158, 0.7143647616385903], [0.21651336785165384, -0.03322898478777197, 0.010028835943115365, 0.05425433359132035, -0.009019064206633747, 0.016193605568453423, -0.02671558606433533, -0.024184292365178967, 0.35388534696410395, -0.018213567810190918, 0.34497763816542787, 0.0015667995146762359, -0.03681389238350813, -0.022154312598866084, 0.017896066144799612, 0.033492502069353614, 0.014352184864355582, 0.40485775850255995, -0.00206653603800598, 0.008941249141234248, 0.618408865217602, 0.5480562476995158, 1.0, 0.5102236357788096], [0.20208860237515222, -0.026363178228837648, 0.014406048430629939, 0.06906537825528397, -0.009196645292770457, -0.0049987226281075076, -0.020123200184066038, 0.025975807949088905, 0.3752806077657263, -0.02765621388428996, 0.3440788832587207, -0.036745905336769295, -0.11031915543773214, -0.011985248472361218, 0.022827168908479786, -0.0008674968446255921, 0.02469822656302997, 0.4591883970831438, -0.0040955260212261965, 0.002759440242340434, 0.7692124251006991, 0.7143647616385903, 0.5102236357788096, 1.0]], \"y\": [\"Age\", \"DailyRate\", \"DistanceFromHome\", \"Education\", \"EmployeeNumber\", \"EnvironmentSatisfaction\", \"HourlyRate\", \"JobInvolvement\", \"JobLevel\", \"JobSatisfaction\", \"MonthlyIncome\", \"MonthlyRate\", \"NumCompaniesWorked\", \"PercentSalaryHike\", \"PerformanceRating\", \"RelationshipSatisfaction\", \"StockOptionLevel\", \"TotalWorkingYears\", \"TrainingTimesLastYear\", \"WorkLifeBalance\", \"YearsAtCompany\", \"YearsInCurrentRole\", \"YearsSinceLastPromotion\", \"YearsWithCurrManager\"], \"reversescale\": false, \"opacity\": 1.0, \"type\": \"heatmap\", \"x\": [\"Age\", \"DailyRate\", \"DistanceFromHome\", \"Education\", \"EmployeeNumber\", \"EnvironmentSatisfaction\", \"HourlyRate\", \"JobInvolvement\", \"JobLevel\", \"JobSatisfaction\", \"MonthlyIncome\", \"MonthlyRate\", \"NumCompaniesWorked\", \"PercentSalaryHike\", \"PerformanceRating\", \"RelationshipSatisfaction\", \"StockOptionLevel\", \"TotalWorkingYears\", \"TrainingTimesLastYear\", \"WorkLifeBalance\", \"YearsAtCompany\", \"YearsInCurrentRole\", \"YearsSinceLastPromotion\", \"YearsWithCurrManager\"], \"colorscale\": \"Viridis\"}], {\"yaxis\": {\"ticks\": \"\"}, \"height\": 700, \"title\": \"Pearson Correlation of numerical features\", \"width\": 900, \"xaxis\": {\"ticks\": \"\", \"nticks\": 36}}, {\"showLink\": true, \"linkText\": \"Export to plot.ly\"})});</script>"
      ],
      "text/plain": [
       "<IPython.core.display.HTML object>"
      ]
     },
     "metadata": {},
     "output_type": "display_data"
    }
   ],
   "source": [
    "# creating a list of only numerical values\n",
    "numerical = [u'Age', u'DailyRate', u'DistanceFromHome', u'Education', u'EmployeeNumber', u'EnvironmentSatisfaction',\n",
    "       u'HourlyRate', u'JobInvolvement', u'JobLevel', u'JobSatisfaction',\n",
    "       u'MonthlyIncome', u'MonthlyRate', u'NumCompaniesWorked',\n",
    "       u'PercentSalaryHike', u'PerformanceRating', u'RelationshipSatisfaction',\n",
    "       u'StockOptionLevel', u'TotalWorkingYears',\n",
    "       u'TrainingTimesLastYear', u'WorkLifeBalance', u'YearsAtCompany',\n",
    "       u'YearsInCurrentRole', u'YearsSinceLastPromotion',\n",
    "       u'YearsWithCurrManager']\n",
    "data = [\n",
    "    go.Heatmap(\n",
    "        z= attrition[numerical].astype(float).corr().values, # Generating the Pearson correlation\n",
    "        x=attrition[numerical].columns.values,\n",
    "        y=attrition[numerical].columns.values,\n",
    "        colorscale='Viridis',\n",
    "        reversescale = False,\n",
    "        text = True ,\n",
    "        opacity = 1.0\n",
    "        \n",
    "    )\n",
    "]\n",
    "\n",
    "\n",
    "layout = go.Layout(\n",
    "    title='Pearson Correlation of numerical features',\n",
    "    xaxis = dict(ticks='', nticks=36),\n",
    "    yaxis = dict(ticks='' ),\n",
    "    width = 900, height = 700,\n",
    "    \n",
    ")\n",
    "\n",
    "\n",
    "fig = go.Figure(data=data, layout=layout)\n",
    "py.iplot(fig, filename='labelled-heatmap')"
   ]
  },
  {
   "cell_type": "markdown",
   "metadata": {
    "_cell_guid": "88e730c3-f7a9-50fa-05a9-2ac9f507f882"
   },
   "source": [
    "**Takeaway from the plots**\n",
    "\n",
    "From the correlation plots, we can see that quite a lot of our columns seem to be poorly correlated with one another. Generally when making a predictive model, it would be preferable to train a model with features that are not too correlated with one another so that we do not need to deal with redundant features. In the case that we have quite a lot of correlated features one could perhaps apply a technique such as Principal Component Analysis (PCA) to reduce the feature space."
   ]
  },
  {
   "cell_type": "markdown",
   "metadata": {
    "_cell_guid": "a1437185-68f3-5927-1ad9-041e9c5551d9"
   },
   "source": [
    "### Pairplot Visualisations\n",
    "\n",
    "Now let us create some Seaborn pairplots and set it against the target variable which is our Attrition column to get a feel for how the various features are distributed vis-a-vis employee attrition"
   ]
  },
  {
   "cell_type": "code",
   "execution_count": 10,
   "metadata": {
    "_cell_guid": "aaecd545-abb3-0513-5ae5-fc178f7e5de3",
    "collapsed": true
   },
   "outputs": [],
   "source": [
    "# Refining our list of numerical variables\n",
    "numerical = [u'Age', u'DailyRate',  u'JobSatisfaction',\n",
    "       u'MonthlyIncome', u'PerformanceRating',\n",
    "        u'WorkLifeBalance', u'YearsAtCompany', u'Attrition_numerical']\n",
    "\n",
    "#g = sns.pairplot(attrition[numerical], hue='Attrition_numerical', palette='seismic', diag_kind = 'kde',diag_kws=dict(shade=True))\n",
    "#g.set(xticklabels=[])"
   ]
  },
  {
   "cell_type": "markdown",
   "metadata": {
    "_cell_guid": "112cef65-78b8-7790-e705-b173beea6986"
   },
   "source": [
    "# 2. Feature Engineering & Categorical Encoding\n",
    "\n",
    "Having carried out a brief exploration into the dataset, let us now proceed onto the task of Feature engineering and numerically encoding the categorical values in our dataset. Feature engineering in a nutshell involves creating new features and relationships from the current features that we have. Feature engineering has been quite \n",
    "\n",
    "To start off, we shall segregate numerical columns from categorical columns via the use of the dtype method as follows:"
   ]
  },
  {
   "cell_type": "code",
   "execution_count": 7,
   "metadata": {
    "_cell_guid": "937385c7-7b7f-f6d0-d974-0527a7118e98",
    "collapsed": true
   },
   "outputs": [],
   "source": [
    "# Drop the Attrition_numerical column from attrition dataset first - Don't want to include that\n",
    "attrition = attrition.drop(['Attrition_numerical'], axis=1)\n",
    "\n",
    "# Empty list to store columns with categorical data\n",
    "categorical = []\n",
    "for col, value in attrition.iteritems():\n",
    "    if value.dtype == 'object':\n",
    "        categorical.append(col)\n",
    "\n",
    "# Store the numerical columns in a list numerical\n",
    "numerical = attrition.columns.difference(categorical)"
   ]
  },
  {
   "cell_type": "markdown",
   "metadata": {
    "_cell_guid": "29b16ff2-e3bb-bb81-348c-995553409ad0"
   },
   "source": [
    "Having identified which of our features contain categorical data, we can set about numerically encoding the data. To do this, I shall use the **get_dummies** method from Pandas which creates encoded dummy variables from the categorical variables."
   ]
  },
  {
   "cell_type": "code",
   "execution_count": 8,
   "metadata": {
    "_cell_guid": "5ec5cd49-f8b3-e36b-75dd-ac95fe0373ac",
    "collapsed": true
   },
   "outputs": [],
   "source": [
    "# Store the categorical data in a dataframe called attrition_cat\n",
    "attrition_cat = attrition[categorical]\n",
    "attrition_cat = attrition_cat.drop(['Attrition'], axis=1) # Dropping the target column"
   ]
  },
  {
   "cell_type": "markdown",
   "metadata": {
    "_cell_guid": "7c3c0c95-3725-80dd-0a73-5c840451a438"
   },
   "source": [
    "Applying the **get_dummies** method, we see that we have encoded our categorical values conveniently by just applying one line of Python code. "
   ]
  },
  {
   "cell_type": "code",
   "execution_count": 9,
   "metadata": {
    "_cell_guid": "7ea5b0d8-1f13-e56b-72cf-bcbe7dd6fad2"
   },
   "outputs": [
    {
     "data": {
      "text/html": [
       "<div>\n",
       "<table border=\"1\" class=\"dataframe\">\n",
       "  <thead>\n",
       "    <tr style=\"text-align: right;\">\n",
       "      <th></th>\n",
       "      <th>BusinessTravel_Non-Travel</th>\n",
       "      <th>BusinessTravel_Travel_Frequently</th>\n",
       "      <th>BusinessTravel_Travel_Rarely</th>\n",
       "      <th>Department_Human Resources</th>\n",
       "      <th>Department_Research &amp; Development</th>\n",
       "      <th>Department_Sales</th>\n",
       "      <th>EducationField_Human Resources</th>\n",
       "      <th>EducationField_Life Sciences</th>\n",
       "      <th>EducationField_Marketing</th>\n",
       "      <th>EducationField_Medical</th>\n",
       "      <th>...</th>\n",
       "      <th>JobRole_Research Director</th>\n",
       "      <th>JobRole_Research Scientist</th>\n",
       "      <th>JobRole_Sales Executive</th>\n",
       "      <th>JobRole_Sales Representative</th>\n",
       "      <th>MaritalStatus_Divorced</th>\n",
       "      <th>MaritalStatus_Married</th>\n",
       "      <th>MaritalStatus_Single</th>\n",
       "      <th>Over18_Y</th>\n",
       "      <th>OverTime_No</th>\n",
       "      <th>OverTime_Yes</th>\n",
       "    </tr>\n",
       "  </thead>\n",
       "  <tbody>\n",
       "    <tr>\n",
       "      <th>0</th>\n",
       "      <td>0</td>\n",
       "      <td>0</td>\n",
       "      <td>1</td>\n",
       "      <td>0</td>\n",
       "      <td>0</td>\n",
       "      <td>1</td>\n",
       "      <td>0</td>\n",
       "      <td>1</td>\n",
       "      <td>0</td>\n",
       "      <td>0</td>\n",
       "      <td>...</td>\n",
       "      <td>0</td>\n",
       "      <td>0</td>\n",
       "      <td>1</td>\n",
       "      <td>0</td>\n",
       "      <td>0</td>\n",
       "      <td>0</td>\n",
       "      <td>1</td>\n",
       "      <td>1</td>\n",
       "      <td>0</td>\n",
       "      <td>1</td>\n",
       "    </tr>\n",
       "    <tr>\n",
       "      <th>1</th>\n",
       "      <td>0</td>\n",
       "      <td>1</td>\n",
       "      <td>0</td>\n",
       "      <td>0</td>\n",
       "      <td>1</td>\n",
       "      <td>0</td>\n",
       "      <td>0</td>\n",
       "      <td>1</td>\n",
       "      <td>0</td>\n",
       "      <td>0</td>\n",
       "      <td>...</td>\n",
       "      <td>0</td>\n",
       "      <td>1</td>\n",
       "      <td>0</td>\n",
       "      <td>0</td>\n",
       "      <td>0</td>\n",
       "      <td>1</td>\n",
       "      <td>0</td>\n",
       "      <td>1</td>\n",
       "      <td>1</td>\n",
       "      <td>0</td>\n",
       "    </tr>\n",
       "    <tr>\n",
       "      <th>2</th>\n",
       "      <td>0</td>\n",
       "      <td>0</td>\n",
       "      <td>1</td>\n",
       "      <td>0</td>\n",
       "      <td>1</td>\n",
       "      <td>0</td>\n",
       "      <td>0</td>\n",
       "      <td>0</td>\n",
       "      <td>0</td>\n",
       "      <td>0</td>\n",
       "      <td>...</td>\n",
       "      <td>0</td>\n",
       "      <td>0</td>\n",
       "      <td>0</td>\n",
       "      <td>0</td>\n",
       "      <td>0</td>\n",
       "      <td>0</td>\n",
       "      <td>1</td>\n",
       "      <td>1</td>\n",
       "      <td>0</td>\n",
       "      <td>1</td>\n",
       "    </tr>\n",
       "  </tbody>\n",
       "</table>\n",
       "<p>3 rows × 29 columns</p>\n",
       "</div>"
      ],
      "text/plain": [
       "   BusinessTravel_Non-Travel  BusinessTravel_Travel_Frequently  \\\n",
       "0                          0                                 0   \n",
       "1                          0                                 1   \n",
       "2                          0                                 0   \n",
       "\n",
       "   BusinessTravel_Travel_Rarely  Department_Human Resources  \\\n",
       "0                             1                           0   \n",
       "1                             0                           0   \n",
       "2                             1                           0   \n",
       "\n",
       "   Department_Research & Development  Department_Sales  \\\n",
       "0                                  0                 1   \n",
       "1                                  1                 0   \n",
       "2                                  1                 0   \n",
       "\n",
       "   EducationField_Human Resources  EducationField_Life Sciences  \\\n",
       "0                               0                             1   \n",
       "1                               0                             1   \n",
       "2                               0                             0   \n",
       "\n",
       "   EducationField_Marketing  EducationField_Medical      ...       \\\n",
       "0                         0                       0      ...        \n",
       "1                         0                       0      ...        \n",
       "2                         0                       0      ...        \n",
       "\n",
       "   JobRole_Research Director  JobRole_Research Scientist  \\\n",
       "0                          0                           0   \n",
       "1                          0                           1   \n",
       "2                          0                           0   \n",
       "\n",
       "   JobRole_Sales Executive  JobRole_Sales Representative  \\\n",
       "0                        1                             0   \n",
       "1                        0                             0   \n",
       "2                        0                             0   \n",
       "\n",
       "   MaritalStatus_Divorced  MaritalStatus_Married  MaritalStatus_Single  \\\n",
       "0                       0                      0                     1   \n",
       "1                       0                      1                     0   \n",
       "2                       0                      0                     1   \n",
       "\n",
       "   Over18_Y  OverTime_No  OverTime_Yes  \n",
       "0         1            0             1  \n",
       "1         1            1             0  \n",
       "2         1            0             1  \n",
       "\n",
       "[3 rows x 29 columns]"
      ]
     },
     "execution_count": 9,
     "metadata": {},
     "output_type": "execute_result"
    }
   ],
   "source": [
    "attrition_cat = pd.get_dummies(attrition_cat)\n",
    "attrition_cat.head(3)"
   ]
  },
  {
   "cell_type": "markdown",
   "metadata": {
    "_cell_guid": "ea6f0750-644f-c81f-e03a-4699387bc1b1"
   },
   "source": [
    "**Creating new features from Numerical data**"
   ]
  },
  {
   "cell_type": "code",
   "execution_count": 10,
   "metadata": {
    "_cell_guid": "de8b3a57-6aba-eae7-2be3-dbe0ae761d6a",
    "collapsed": true
   },
   "outputs": [],
   "source": [
    "# Store the numerical features to a dataframe attrition_num\n",
    "attrition_num = attrition[numerical]"
   ]
  },
  {
   "cell_type": "markdown",
   "metadata": {
    "_cell_guid": "9de23a93-10b6-33b8-eea8-0cf44c6e5e08"
   },
   "source": [
    "Having encoded our categorical columns as well as engineering and created some new features from the numerical data, we can now proceed to merging both dataframes into a final set with which we will train and test our models on. "
   ]
  },
  {
   "cell_type": "code",
   "execution_count": 11,
   "metadata": {
    "_cell_guid": "b90b69ba-f19d-0707-7c2c-183b8d01130f",
    "collapsed": true
   },
   "outputs": [],
   "source": [
    "# Concat the two dataframes together columnwise\n",
    "attrition_final = pd.concat([attrition_num, attrition_cat], axis=1)"
   ]
  },
  {
   "cell_type": "markdown",
   "metadata": {
    "_cell_guid": "1a295568-fab4-b79a-bc0d-be32ad032b3e"
   },
   "source": [
    "**Target variable**\n",
    "\n",
    "One final step that that we have to remember is to generate our target variable. The target in this case is given by the column **Attrition** which contains categorical variables therefore requires numerical encoding. We numerically encode it by creating a dictionary with the mapping given as 1 : Yes and 0 : No"
   ]
  },
  {
   "cell_type": "code",
   "execution_count": 12,
   "metadata": {
    "_cell_guid": "bfa5e82f-2dd3-1bee-5b2b-367468be7040"
   },
   "outputs": [
    {
     "data": {
      "text/plain": [
       "0    1\n",
       "1    0\n",
       "2    1\n",
       "Name: Attrition, dtype: int64"
      ]
     },
     "execution_count": 12,
     "metadata": {},
     "output_type": "execute_result"
    }
   ],
   "source": [
    "# Define a dictionary for the target mapping\n",
    "target_map = {'Yes':1, 'No':0}\n",
    "# Use the pandas apply method to numerically encode our attrition target variable\n",
    "target = attrition[\"Attrition\"].apply(lambda x: target_map[x])\n",
    "target.head(3)"
   ]
  },
  {
   "cell_type": "markdown",
   "metadata": {
    "_cell_guid": "1f56b814-92a6-3042-461e-44f9e6352e86"
   },
   "source": [
    "However just by a quick inspection of the counts of the number of 'Yes' and 'No' in the target variable tells us that there is quite a large skew in target as shown"
   ]
  },
  {
   "cell_type": "code",
   "execution_count": 13,
   "metadata": {
    "_cell_guid": "f47479ed-e975-413d-37f6-e6ad58342b6d"
   },
   "outputs": [
    {
     "data": {
      "text/html": [
       "<div id=\"6530b307-0bf6-4ec9-b574-dfad1d179ce8\" style=\"height: 525px; width: 100%;\" class=\"plotly-graph-div\"></div><script type=\"text/javascript\">require([\"plotly\"], function(Plotly) { window.PLOTLYENV=window.PLOTLYENV || {};window.PLOTLYENV.BASE_URL=\"https://plot.ly\";Plotly.newPlot(\"6530b307-0bf6-4ec9-b574-dfad1d179ce8\", [{\"y\": [1233, 237], \"type\": \"bar\", \"x\": [\"No\", \"Yes\"]}], {}, {\"showLink\": true, \"linkText\": \"Export to plot.ly\"})});</script>"
      ],
      "text/plain": [
       "<IPython.core.display.HTML object>"
      ]
     },
     "metadata": {},
     "output_type": "display_data"
    }
   ],
   "source": [
    "data = [go.Bar(\n",
    "            x=attrition[\"Attrition\"].value_counts().index.values,\n",
    "            y= attrition[\"Attrition\"].value_counts().values\n",
    "    )]\n",
    "\n",
    "py.iplot(data, filename='basic-bar')"
   ]
  },
  {
   "cell_type": "markdown",
   "metadata": {
    "_cell_guid": "891264f0-63f0-fb53-c8c2-f9ceb6b7f00d"
   },
   "source": [
    "Therefore we have to keep in mind that there is quite a big imbalance in our target variable. Many statistical techniques have been put forth to treat imbalances in data (oversampling or undersampling). In this notebook, I will use an oversampling technique known as SMOTE to treat this imbalance."
   ]
  },
  {
   "cell_type": "markdown",
   "metadata": {
    "_cell_guid": "5564e6e1-83ed-75de-2540-0d037e31291b"
   },
   "source": [
    "# 3. Implementing Machine Learning Models\n",
    "\n",
    "Having performed some exploratory data analysis and simple feature engineering as well as having ensured that all categorical values are encoded, we are now ready to proceed onto building our models.\n",
    "\n",
    "As alluded to in the introduction of this notebook, we will aim to evaluate and contrast the performances of a handful of different learning models. \n",
    "\n",
    "**Splitting Data into Train and Test sets**\n",
    "\n",
    "But before we even start training a model, we will have to partition our dataset into a training set and a test set (unlike Kaggle competitions where the train and test data are already segregated for you). To split our data we will utilise sklearn's "
   ]
  },
  {
   "cell_type": "code",
   "execution_count": 14,
   "metadata": {
    "_cell_guid": "c197f8ee-76b0-7137-f001-83f969637521",
    "collapsed": true
   },
   "outputs": [],
   "source": [
    "# Import the train_test_split method\n",
    "from sklearn.cross_validation import train_test_split\n",
    "from sklearn.cross_validation import StratifiedShuffleSplit\n",
    "\n",
    "# Split data into train and test sets as well as for validation and testing\n",
    "train, test, target_train, target_val = train_test_split(attrition_final, target, train_size= 0.75,random_state=0);\n",
    "#train, test, target_train, target_val = StratifiedShuffleSplit(attrition_final, target, random_state=0);"
   ]
  },
  {
   "cell_type": "markdown",
   "metadata": {
    "_cell_guid": "868ff39d-a894-1f8a-2375-12b2b49fb0f2"
   },
   "source": [
    "**SMOTE to oversample due to the skewness in target**\n",
    "\n",
    "Since we have already noted the severe imbalance in the values within the target variable, let us implement the SMOTE method in the dealing with this skewed value via the imblearn Python package."
   ]
  },
  {
   "cell_type": "code",
   "execution_count": 15,
   "metadata": {
    "_cell_guid": "a865e8bc-21c0-b8a6-85f2-60804b027103",
    "collapsed": true
   },
   "outputs": [],
   "source": [
    "oversampler=SMOTE(random_state=0)\n",
    "smote_train, smote_target = oversampler.fit_sample(train,target_train)"
   ]
  },
  {
   "cell_type": "markdown",
   "metadata": {
    "_cell_guid": "fc5471cf-b4a3-6a3b-c558-fd6dda2e239a"
   },
   "source": [
    "## A. Random Forest Classifier \n",
    "\n",
    "The Random Forest method, first introduced by Breiman in 2001 can be grouped under the category of ensemble models. Why ensemble? The building block of a Random Forest is the ubiquitous Decision Tree. The decision tree as a standalone model is often considered a \"weak learner\" as its predictive performance is relatively poor. However a Random Forest gathers a group (or ensemble) of decision trees and uses their combined predictive capabilities to obtain relatively strong predictive performance - \"strong learner\". \n",
    "\n",
    "This principle of using a collection of \"weak learners\" to come together to create a \"strong learner\" underpins the basis of ensemble methods which one regularly comes across in Machine learning. For a really good read that drives home the basics of the Random Forest, refer to this [CitizenNet blog][1]\n",
    "\n",
    "\n",
    "  [1]: http://blog.citizennet.com/blog/2012/11/10/random-forests-ensembles-and-performance-metrics"
   ]
  },
  {
   "cell_type": "markdown",
   "metadata": {
    "_cell_guid": "fdb4257b-8307-e96e-bf5b-09a724e609b0"
   },
   "source": [
    "**Initialising Random Forest parameters**\n",
    "\n",
    "We will utilise the Scikit-learn library to construct a Random Forest model. To do so, we have to first define our set of parameters that we will feed into our Random Forest classifier as follows"
   ]
  },
  {
   "cell_type": "code",
   "execution_count": 16,
   "metadata": {
    "_cell_guid": "89521bf0-95f5-de1d-a4f9-a981c564aa55",
    "collapsed": true
   },
   "outputs": [],
   "source": [
    "seed = 0   # We set our random seed to zero for reproducibility\n",
    "# Random Forest parameters\n",
    "rf_params = {\n",
    "    'n_jobs': -1,\n",
    "    'n_estimators': 800,\n",
    "    'warm_start': True, \n",
    "    'max_features': 0.3,\n",
    "    'max_depth': 9,\n",
    "    'min_samples_leaf': 2,\n",
    "    'max_features' : 'sqrt',\n",
    "    'random_state' : seed,\n",
    "    'verbose': 0\n",
    "}"
   ]
  },
  {
   "cell_type": "markdown",
   "metadata": {
    "_cell_guid": "c4af80e2-032d-db67-b1ec-6691eb57563a"
   },
   "source": [
    "Having defined our parameters, we can initialise a Random Forest object by using scikit-learn's **RandomForestClassifier** and unpacking the parameters by adding the double asterisks symbols as follows"
   ]
  },
  {
   "cell_type": "code",
   "execution_count": 17,
   "metadata": {
    "_cell_guid": "04516a2f-0cd3-b521-160a-614c6421cab0",
    "collapsed": true
   },
   "outputs": [],
   "source": [
    "rf = RandomForestClassifier(**rf_params)"
   ]
  },
  {
   "cell_type": "markdown",
   "metadata": {
    "_cell_guid": "7445e9fc-9434-3e99-3f18-0e72dd1963be"
   },
   "source": [
    "The next step after prepping our Random Forest model would be to start building a forest of trees using our training set and fitting it to our attrition target variable. We do so by simply using the **fit** call as follows"
   ]
  },
  {
   "cell_type": "code",
   "execution_count": 18,
   "metadata": {
    "_cell_guid": "5c1a0e3e-ccbb-8b33-2c79-23800a893523"
   },
   "outputs": [
    {
     "name": "stdout",
     "output_type": "stream",
     "text": [
      "Fitting of Random Forest as finished\n"
     ]
    }
   ],
   "source": [
    "rf.fit(smote_train, smote_target)\n",
    "print(\"Fitting of Random Forest as finished\")"
   ]
  },
  {
   "cell_type": "markdown",
   "metadata": {
    "_cell_guid": "c20ee19d-075b-0b58-6eb3-25c9bd93ceeb"
   },
   "source": [
    "Having fitted our forest of trees with our parameters to the training set against our target variable, we now have a learning model **rf** which we can make predictions out of. To use our Random Forest in predicting against our test data, we can use sklearn's **.predict** method as follows"
   ]
  },
  {
   "cell_type": "code",
   "execution_count": 19,
   "metadata": {
    "_cell_guid": "b2f76111-da81-dc47-5075-76de75ee7636"
   },
   "outputs": [
    {
     "name": "stdout",
     "output_type": "stream",
     "text": [
      "Predictions finished\n"
     ]
    }
   ],
   "source": [
    "rf_predictions = rf.predict(test)\n",
    "print(\"Predictions finished\")"
   ]
  },
  {
   "cell_type": "markdown",
   "metadata": {
    "_cell_guid": "14046a92-63a3-b7ef-f26f-c782816c1c4c"
   },
   "source": [
    "And a nice touch with sklearn (and the use of train_test_split method) is that you can conveniently set aside a part of the "
   ]
  },
  {
   "cell_type": "code",
   "execution_count": 20,
   "metadata": {
    "_cell_guid": "5f212f92-952b-e4a8-ac8f-c3349ca91dde"
   },
   "outputs": [
    {
     "data": {
      "text/plain": [
       "0.87771739130434778"
      ]
     },
     "execution_count": 20,
     "metadata": {},
     "output_type": "execute_result"
    }
   ],
   "source": [
    "accuracy_score(target_val, rf_predictions)"
   ]
  },
  {
   "cell_type": "markdown",
   "metadata": {
    "_cell_guid": "5c6074c8-45cb-bfdd-1394-09bbd259b4b2"
   },
   "source": [
    "**Accuracy of the model**\n",
    "\n",
    "As observed, our Random Forest returns an accuracy of 88% for its predictions. On first glance this might seem to be a very good performing model. However when we think about how skewed our target variable where the distribution of yes and no's are 84% and 26%, therefore our model is only predicting slightly better than random guessing."
   ]
  },
  {
   "cell_type": "markdown",
   "metadata": {
    "_cell_guid": "56c04982-9ec1-5602-4940-98ff888cbed6"
   },
   "source": [
    "### Feature Ranking via the Random Forest \n",
    "\n",
    "The Random Forest classifier in Sklearn also contains a very convenient and most useful attribute **feature_importances_** which tells us which features within our dataset has been given most importance through the Random Forest algorithm. Shown below is an Interactive Plotly diagram of the various feature importances."
   ]
  },
  {
   "cell_type": "code",
   "execution_count": 21,
   "metadata": {
    "_cell_guid": "1a44123f-4630-4125-cc60-745b60ac0073"
   },
   "outputs": [
    {
     "data": {
      "text/html": [
       "<div id=\"53ae525f-8a65-49a6-892c-35f74a91a379\" style=\"height: 525px; width: 100%;\" class=\"plotly-graph-div\"></div><script type=\"text/javascript\">require([\"plotly\"], function(Plotly) { window.PLOTLYENV=window.PLOTLYENV || {};window.PLOTLYENV.BASE_URL=\"https://plot.ly\";Plotly.newPlot(\"53ae525f-8a65-49a6-892c-35f74a91a379\", [{\"text\": [\"Age\", \"DailyRate\", \"DistanceFromHome\", \"Education\", \"EmployeeCount\", \"EmployeeNumber\", \"EnvironmentSatisfaction\", \"HourlyRate\", \"JobInvolvement\", \"JobLevel\", \"JobSatisfaction\", \"MonthlyIncome\", \"MonthlyRate\", \"NumCompaniesWorked\", \"PercentSalaryHike\", \"PerformanceRating\", \"RelationshipSatisfaction\", \"StandardHours\", \"StockOptionLevel\", \"TotalWorkingYears\", \"TrainingTimesLastYear\", \"WorkLifeBalance\", \"YearsAtCompany\", \"YearsInCurrentRole\", \"YearsSinceLastPromotion\", \"YearsWithCurrManager\", \"BusinessTravel_Non-Travel\", \"BusinessTravel_Travel_Frequently\", \"BusinessTravel_Travel_Rarely\", \"Department_Human Resources\", \"Department_Research & Development\", \"Department_Sales\", \"EducationField_Human Resources\", \"EducationField_Life Sciences\", \"EducationField_Marketing\", \"EducationField_Medical\", \"EducationField_Other\", \"EducationField_Technical Degree\", \"Gender_Female\", \"Gender_Male\", \"JobRole_Healthcare Representative\", \"JobRole_Human Resources\", \"JobRole_Laboratory Technician\", \"JobRole_Manager\", \"JobRole_Manufacturing Director\", \"JobRole_Research Director\", \"JobRole_Research Scientist\", \"JobRole_Sales Executive\", \"JobRole_Sales Representative\", \"MaritalStatus_Divorced\", \"MaritalStatus_Married\", \"MaritalStatus_Single\", \"Over18_Y\", \"OverTime_No\", \"OverTime_Yes\"], \"y\": [0.02587210272756938, 0.014824326935360668, 0.016206717661738063, 0.014111684842544001, 0.0, 0.01411361375629578, 0.024381702211516577, 0.014118376127771332, 0.02445029587948682, 0.02915920476204527, 0.04134337112989097, 0.03582301747725483, 0.01727379227646725, 0.01729060861782999, 0.010158020969165243, 0.002836542367564064, 0.019462258545525135, 0.0, 0.04176432163364006, 0.021882507358517315, 0.010935735772488402, 0.018175329032759126, 0.020610324163653267, 0.018476311838928863, 0.011185783220784024, 0.018694221265777883, 0.0033586282980956066, 0.026821128176073083, 0.014521244962639242, 0.0018964163161941544, 0.02949671732762587, 0.02827521737752143, 0.0008258553957670167, 0.014590768113011212, 0.0052229910610150365, 0.028180459492283018, 0.00158943659952055, 0.008564168423136733, 0.013997517826530142, 0.013754371743209134, 0.005424800751789849, 0.0016667213524779487, 0.019269894123640947, 0.0008754407262396885, 0.0046485479134858836, 0.0003301077774168143, 0.006611671573612037, 0.013179288139200806, 0.011034028725368048, 0.010313148100109004, 0.02359170860258465, 0.06211828257752376, 0.0, 0.08021718066717323, 0.08647408728218105], \"marker\": {\"showscale\": true, \"sizemode\": \"diameter\", \"color\": [0.02587210272756938, 0.014824326935360668, 0.016206717661738063, 0.014111684842544001, 0.0, 0.01411361375629578, 0.024381702211516577, 0.014118376127771332, 0.02445029587948682, 0.02915920476204527, 0.04134337112989097, 0.03582301747725483, 0.01727379227646725, 0.01729060861782999, 0.010158020969165243, 0.002836542367564064, 0.019462258545525135, 0.0, 0.04176432163364006, 0.021882507358517315, 0.010935735772488402, 0.018175329032759126, 0.020610324163653267, 0.018476311838928863, 0.011185783220784024, 0.018694221265777883, 0.0033586282980956066, 0.026821128176073083, 0.014521244962639242, 0.0018964163161941544, 0.02949671732762587, 0.02827521737752143, 0.0008258553957670167, 0.014590768113011212, 0.0052229910610150365, 0.028180459492283018, 0.00158943659952055, 0.008564168423136733, 0.013997517826530142, 0.013754371743209134, 0.005424800751789849, 0.0016667213524779487, 0.019269894123640947, 0.0008754407262396885, 0.0046485479134858836, 0.0003301077774168143, 0.006611671573612037, 0.013179288139200806, 0.011034028725368048, 0.010313148100109004, 0.02359170860258465, 0.06211828257752376, 0.0, 0.08021718066717323, 0.08647408728218105], \"size\": 13, \"sizeref\": 1, \"colorscale\": \"Portland\"}, \"type\": \"scatter\", \"x\": [\"Age\", \"DailyRate\", \"DistanceFromHome\", \"Education\", \"EmployeeCount\", \"EmployeeNumber\", \"EnvironmentSatisfaction\", \"HourlyRate\", \"JobInvolvement\", \"JobLevel\", \"JobSatisfaction\", \"MonthlyIncome\", \"MonthlyRate\", \"NumCompaniesWorked\", \"PercentSalaryHike\", \"PerformanceRating\", \"RelationshipSatisfaction\", \"StandardHours\", \"StockOptionLevel\", \"TotalWorkingYears\", \"TrainingTimesLastYear\", \"WorkLifeBalance\", \"YearsAtCompany\", \"YearsInCurrentRole\", \"YearsSinceLastPromotion\", \"YearsWithCurrManager\", \"BusinessTravel_Non-Travel\", \"BusinessTravel_Travel_Frequently\", \"BusinessTravel_Travel_Rarely\", \"Department_Human Resources\", \"Department_Research & Development\", \"Department_Sales\", \"EducationField_Human Resources\", \"EducationField_Life Sciences\", \"EducationField_Marketing\", \"EducationField_Medical\", \"EducationField_Other\", \"EducationField_Technical Degree\", \"Gender_Female\", \"Gender_Male\", \"JobRole_Healthcare Representative\", \"JobRole_Human Resources\", \"JobRole_Laboratory Technician\", \"JobRole_Manager\", \"JobRole_Manufacturing Director\", \"JobRole_Research Director\", \"JobRole_Research Scientist\", \"JobRole_Sales Executive\", \"JobRole_Sales Representative\", \"MaritalStatus_Divorced\", \"MaritalStatus_Married\", \"MaritalStatus_Single\", \"Over18_Y\", \"OverTime_No\", \"OverTime_Yes\"], \"mode\": \"markers\"}], {\"autosize\": true, \"hovermode\": \"closest\", \"yaxis\": {\"gridwidth\": 2, \"showgrid\": false, \"zeroline\": false, \"title\": \"Feature Importance\", \"ticklen\": 5}, \"title\": \"Random Forest Feature Importance\", \"showlegend\": false, \"xaxis\": {\"showgrid\": false, \"zeroline\": false, \"showline\": false, \"ticklen\": 5}}, {\"showLink\": true, \"linkText\": \"Export to plot.ly\"})});</script>"
      ],
      "text/plain": [
       "<IPython.core.display.HTML object>"
      ]
     },
     "metadata": {},
     "output_type": "display_data"
    }
   ],
   "source": [
    "# Scatter plot \n",
    "trace = go.Scatter(\n",
    "    y = rf.feature_importances_,\n",
    "    x = attrition_final.columns.values,\n",
    "    mode='markers',\n",
    "    marker=dict(\n",
    "        sizemode = 'diameter',\n",
    "        sizeref = 1,\n",
    "        size = 13,\n",
    "        #size= rf.feature_importances_,\n",
    "        #color = np.random.randn(500), #set color equal to a variable\n",
    "        color = rf.feature_importances_,\n",
    "        colorscale='Portland',\n",
    "        showscale=True\n",
    "    ),\n",
    "    text = attrition_final.columns.values\n",
    ")\n",
    "data = [trace]\n",
    "\n",
    "layout= go.Layout(\n",
    "    autosize= True,\n",
    "    title= 'Random Forest Feature Importance',\n",
    "    hovermode= 'closest',\n",
    "     xaxis= dict(\n",
    "         ticklen= 5,\n",
    "         showgrid=False,\n",
    "        zeroline=False,\n",
    "        showline=False\n",
    "     ),\n",
    "    yaxis=dict(\n",
    "        title= 'Feature Importance',\n",
    "        showgrid=False,\n",
    "        zeroline=False,\n",
    "        ticklen= 5,\n",
    "        gridwidth= 2\n",
    "    ),\n",
    "    showlegend= False\n",
    ")\n",
    "fig = go.Figure(data=data, layout=layout)\n",
    "py.iplot(fig,filename='scatter2010')"
   ]
  },
  {
   "cell_type": "markdown",
   "metadata": {
    "_cell_guid": "81becb9d-c912-13e8-c36d-404d0f08ffb0"
   },
   "source": [
    "#### **Most RF important features** : Overtime, Marital Status\n",
    "\n",
    "As observed in the plot of feature importances,  it seems that our Random Forest Classifier has decided to rank the features of OverTime highest, which is followed by marital status. \n",
    "\n",
    "I don't know about you, but working overtime to me does indeed affect my satisfaction derived from any job (and I have worked many an overtime). Maybe then it should come as no surprise that our classifier has caught on to this and thus ranked overtime the highest. "
   ]
  },
  {
   "cell_type": "markdown",
   "metadata": {
    "_cell_guid": "1a05c475-cde3-9bd9-d24f-3143f906bbc1"
   },
   "source": [
    "### Visualising Tree Diagram with Graphviz\n",
    "\n",
    "Let us now visualise how a single decision tree traverses the features in our data as the DecisionTreeClassifier object of sklearn comes with a very convenient **export_graphviz** method that exports the tree diagram into a .png format which you can view from the output of this kernel."
   ]
  },
  {
   "cell_type": "code",
   "execution_count": 25,
   "metadata": {
    "_cell_guid": "ebaae88e-3aea-ec26-4ae0-65227a857eaf"
   },
   "outputs": [
    {
     "ename": "FileNotFoundError",
     "evalue": "[Errno 2] No such file or directory: 'tree1.png'",
     "output_type": "error",
     "traceback": [
      "\u001b[1;31m---------------------------------------------------------------------------\u001b[0m",
      "\u001b[1;31mFileNotFoundError\u001b[0m                         Traceback (most recent call last)",
      "\u001b[1;32m<ipython-input-25-38d64199db1d>\u001b[0m in \u001b[0;36m<module>\u001b[1;34m()\u001b[0m\n\u001b[0;32m     26\u001b[0m \u001b[1;33m\u001b[0m\u001b[0m\n\u001b[0;32m     27\u001b[0m \u001b[1;31m# Annotating chart with PIL\u001b[0m\u001b[1;33m\u001b[0m\u001b[1;33m\u001b[0m\u001b[0m\n\u001b[1;32m---> 28\u001b[1;33m \u001b[0mimg\u001b[0m \u001b[1;33m=\u001b[0m \u001b[0mImage\u001b[0m\u001b[1;33m.\u001b[0m\u001b[0mopen\u001b[0m\u001b[1;33m(\u001b[0m\u001b[1;34m\"tree1.png\"\u001b[0m\u001b[1;33m)\u001b[0m\u001b[1;33m\u001b[0m\u001b[0m\n\u001b[0m\u001b[0;32m     29\u001b[0m \u001b[0mdraw\u001b[0m \u001b[1;33m=\u001b[0m \u001b[0mImageDraw\u001b[0m\u001b[1;33m.\u001b[0m\u001b[0mDraw\u001b[0m\u001b[1;33m(\u001b[0m\u001b[0mimg\u001b[0m\u001b[1;33m)\u001b[0m\u001b[1;33m\u001b[0m\u001b[0m\n\u001b[0;32m     30\u001b[0m \u001b[0mimg\u001b[0m\u001b[1;33m.\u001b[0m\u001b[0msave\u001b[0m\u001b[1;33m(\u001b[0m\u001b[1;34m'sample-out.png'\u001b[0m\u001b[1;33m)\u001b[0m\u001b[1;33m\u001b[0m\u001b[0m\n",
      "\u001b[1;32mF:\\Anaconda3\\envs\\tensorflow-gpu\\lib\\site-packages\\PIL\\Image.py\u001b[0m in \u001b[0;36mopen\u001b[1;34m(fp, mode)\u001b[0m\n\u001b[0;32m   2408\u001b[0m \u001b[1;33m\u001b[0m\u001b[0m\n\u001b[0;32m   2409\u001b[0m     \u001b[1;32mif\u001b[0m \u001b[0mfilename\u001b[0m\u001b[1;33m:\u001b[0m\u001b[1;33m\u001b[0m\u001b[0m\n\u001b[1;32m-> 2410\u001b[1;33m         \u001b[0mfp\u001b[0m \u001b[1;33m=\u001b[0m \u001b[0mbuiltins\u001b[0m\u001b[1;33m.\u001b[0m\u001b[0mopen\u001b[0m\u001b[1;33m(\u001b[0m\u001b[0mfilename\u001b[0m\u001b[1;33m,\u001b[0m \u001b[1;34m\"rb\"\u001b[0m\u001b[1;33m)\u001b[0m\u001b[1;33m\u001b[0m\u001b[0m\n\u001b[0m\u001b[0;32m   2411\u001b[0m         \u001b[0mexclusive_fp\u001b[0m \u001b[1;33m=\u001b[0m \u001b[1;32mTrue\u001b[0m\u001b[1;33m\u001b[0m\u001b[0m\n\u001b[0;32m   2412\u001b[0m \u001b[1;33m\u001b[0m\u001b[0m\n",
      "\u001b[1;31mFileNotFoundError\u001b[0m: [Errno 2] No such file or directory: 'tree1.png'"
     ]
    }
   ],
   "source": [
    "from sklearn import tree\n",
    "from IPython.display import Image as PImage\n",
    "from subprocess import check_call\n",
    "from PIL import Image, ImageDraw, ImageFont\n",
    "import re\n",
    "\n",
    "decision_tree = tree.DecisionTreeClassifier(max_depth = 4)\n",
    "decision_tree.fit(train, target_train)\n",
    "\n",
    "# Predicting results for test dataset\n",
    "y_pred = decision_tree.predict(test)\n",
    "\n",
    "# Export our trained model as a .dot file\n",
    "with open(\"tree1.dot\", 'w') as f:\n",
    "     f = tree.export_graphviz(decision_tree,\n",
    "                              out_file=f,\n",
    "                              max_depth = 4,\n",
    "                              impurity = False,\n",
    "                              feature_names = attrition_final.columns.values,\n",
    "                              class_names = ['No', 'Yes'],\n",
    "                              rounded = True,\n",
    "                              filled= True )\n",
    "        \n",
    "#Convert .dot to .png to allow display in web notebook\n",
    "#check_call(['dot','-Tpng','tree1.dot','-o','tree1.png'])\n",
    "\n",
    "# Annotating chart with PIL\n",
    "img = Image.open(\"tree1.png\")\n",
    "draw = ImageDraw.Draw(img)\n",
    "img.save('sample-out.png')\n",
    "PImage(\"sample-out.png\")"
   ]
  },
  {
   "cell_type": "markdown",
   "metadata": {
    "_cell_guid": "610cfa87-0b9d-4671-cd51-c99ef9c9151d"
   },
   "source": [
    "## B. Gradient Boosted Classifier\n",
    "\n",
    "Gradient Boosting is also an ensemble technique much like the Random Forest where a combination of weak Tree learners are brought together to form a relatively stronger learner. The technique involves defining some sort of function (loss function) that you want minimised and an method/algorithm to minimise this. Therefore as the name suggests, the algorithm used to minimise the loss function is that of a gradient descent method which adds decision trees which \"point\" in the direction that reduces our loss function (downward gradient).\n",
    "\n",
    "To set up a Gradient Boosting classifier is easy enough in Sklearn and it involves only a handful of lines of code. Again we first set up our classifier's parameters\n",
    "\n",
    "**Initialising Gradient Boosting Parameters** \n",
    "\n",
    "In general there are a handful of key parameter when setting up tree-based or gradient boosted models. These are always going to be the number of estimators, the maximum depth with which you want your model to be trained to, and the minimum samples per leaf"
   ]
  },
  {
   "cell_type": "code",
   "execution_count": 26,
   "metadata": {
    "_cell_guid": "d2f3de1c-8b21-7f2a-244b-429e4ae22786",
    "collapsed": true
   },
   "outputs": [],
   "source": [
    "# Gradient Boosting Parameters\n",
    "gb_params ={\n",
    "    'n_estimators': 500,\n",
    "    'max_features': 0.9,\n",
    "    'learning_rate' : 0.2,\n",
    "    'max_depth': 11,\n",
    "    'min_samples_leaf': 2,\n",
    "    'subsample': 1,\n",
    "    'max_features' : 'sqrt',\n",
    "    'random_state' : seed,\n",
    "    'verbose': 0\n",
    "}"
   ]
  },
  {
   "cell_type": "markdown",
   "metadata": {
    "_cell_guid": "30d46aa6-98b4-178f-e337-4ecf20291777"
   },
   "source": [
    "Having defined our parameters, we can now apply the usual fit and predict methods on our train and test sets respectively "
   ]
  },
  {
   "cell_type": "code",
   "execution_count": 27,
   "metadata": {
    "_cell_guid": "ed6a837e-2864-291c-be8d-3c8e9ed900b7"
   },
   "outputs": [
    {
     "name": "stdout",
     "output_type": "stream",
     "text": [
      "Predictions have finished\n"
     ]
    }
   ],
   "source": [
    "gb = GradientBoostingClassifier(**gb_params)\n",
    "# Fit the model to our SMOTEd train and target\n",
    "gb.fit(smote_train, smote_target)\n",
    "# Get our predictions\n",
    "gb_predictions = gb.predict(test)\n",
    "print(\"Predictions have finished\")"
   ]
  },
  {
   "cell_type": "code",
   "execution_count": 28,
   "metadata": {
    "_cell_guid": "40c37011-76df-fcc7-9cd0-e689374a8d1a"
   },
   "outputs": [
    {
     "data": {
      "text/plain": [
       "0.87228260869565222"
      ]
     },
     "execution_count": 28,
     "metadata": {},
     "output_type": "execute_result"
    }
   ],
   "source": [
    "accuracy_score(target_val, gb_predictions)"
   ]
  },
  {
   "cell_type": "markdown",
   "metadata": {
    "_cell_guid": "21cc0476-b03e-731f-97b4-89d81977c3a7"
   },
   "source": [
    "### Feature Ranking via the Gradient Boosting Model\n",
    "\n",
    "Much like the Random Forest, we can invoke the feature_importances_ attribute of the gradient boosting model and dump it in an interactive Plotly chart"
   ]
  },
  {
   "cell_type": "code",
   "execution_count": 31,
   "metadata": {
    "_cell_guid": "082ca641-ffd2-fc3b-a7b6-9418b08767d9"
   },
   "outputs": [
    {
     "data": {
      "text/html": [
       "<div id=\"5d50fe5a-0fd6-4f9b-bb3d-da76012a6871\" style=\"height: 525px; width: 100%;\" class=\"plotly-graph-div\"></div><script type=\"text/javascript\">require([\"plotly\"], function(Plotly) { window.PLOTLYENV=window.PLOTLYENV || {};window.PLOTLYENV.BASE_URL=\"https://plot.ly\";Plotly.newPlot(\"5d50fe5a-0fd6-4f9b-bb3d-da76012a6871\", [{\"text\": [\"Age\", \"DailyRate\", \"DistanceFromHome\", \"Education\", \"EmployeeCount\", \"EmployeeNumber\", \"EnvironmentSatisfaction\", \"HourlyRate\", \"JobInvolvement\", \"JobLevel\", \"JobSatisfaction\", \"MonthlyIncome\", \"MonthlyRate\", \"NumCompaniesWorked\", \"PercentSalaryHike\", \"PerformanceRating\", \"RelationshipSatisfaction\", \"StandardHours\", \"StockOptionLevel\", \"TotalWorkingYears\", \"TrainingTimesLastYear\", \"WorkLifeBalance\", \"YearsAtCompany\", \"YearsInCurrentRole\", \"YearsSinceLastPromotion\", \"YearsWithCurrManager\", \"BusinessTravel_Non-Travel\", \"BusinessTravel_Travel_Frequently\", \"BusinessTravel_Travel_Rarely\", \"Department_Human Resources\", \"Department_Research & Development\", \"Department_Sales\", \"EducationField_Human Resources\", \"EducationField_Life Sciences\", \"EducationField_Marketing\", \"EducationField_Medical\", \"EducationField_Other\", \"EducationField_Technical Degree\", \"Gender_Female\", \"Gender_Male\", \"JobRole_Healthcare Representative\", \"JobRole_Human Resources\", \"JobRole_Laboratory Technician\", \"JobRole_Manager\", \"JobRole_Manufacturing Director\", \"JobRole_Research Director\", \"JobRole_Research Scientist\", \"JobRole_Sales Executive\", \"JobRole_Sales Representative\", \"MaritalStatus_Divorced\", \"MaritalStatus_Married\", \"MaritalStatus_Single\", \"Over18_Y\", \"OverTime_No\", \"OverTime_Yes\"], \"type\": \"scatter\", \"y\": [0.004305332935686053, 0.00410244435038291, 0.0033889384733943096, 0.0018310653639491325, 0.0, 0.003363166986914515, 0.002945583529605806, 0.003431261735521442, 0.0031138139269927968, 0.001860888385809824, 0.003425120206032303, 0.004935180614732155, 0.004005853500696777, 0.002786031346072435, 0.002843120134641689, 0.0004769410068020088, 0.0025267099785455842, 0.0, 0.0031750555966503662, 0.003130631680283121, 0.0021117681961144424, 0.0023718606752344993, 0.003058881457557093, 0.0024888696055646304, 0.0017878746885655686, 0.0029953144584827255, 0.0002985828269750287, 0.0023704795061477656, 0.0010427615265395926, 0.00015426450599730649, 0.0015726857362094824, 0.0015651626334102094, 8.242970506013395e-05, 0.0015919417407998205, 0.0006668571088973442, 0.0013820049535740626, 0.0005698248062297009, 0.0008070721965248004, 0.0031056307649268487, 0.0013685864063308158, 0.0004023904198123907, 0.0001443047074030868, 0.0012403033775019094, 0.00014784817851576514, 0.0006243205224760297, 4.379700183077651e-05, 0.0007759671095217589, 0.000653528261203976, 0.0007006206811567624, 0.0005844087543249323, 0.0014069269990157364, 0.002298088746499123, 0.0, 0.004526390357505688, 0.0034111116313769656], \"marker\": {\"sizeref\": 1, \"sizemode\": \"diameter\", \"colorscale\": \"Portland\", \"showscale\": true, \"size\": 13, \"color\": [0.004305332935686053, 0.00410244435038291, 0.0033889384733943096, 0.0018310653639491325, 0.0, 0.003363166986914515, 0.002945583529605806, 0.003431261735521442, 0.0031138139269927968, 0.001860888385809824, 0.003425120206032303, 0.004935180614732155, 0.004005853500696777, 0.002786031346072435, 0.002843120134641689, 0.0004769410068020088, 0.0025267099785455842, 0.0, 0.0031750555966503662, 0.003130631680283121, 0.0021117681961144424, 0.0023718606752344993, 0.003058881457557093, 0.0024888696055646304, 0.0017878746885655686, 0.0029953144584827255, 0.0002985828269750287, 0.0023704795061477656, 0.0010427615265395926, 0.00015426450599730649, 0.0015726857362094824, 0.0015651626334102094, 8.242970506013395e-05, 0.0015919417407998205, 0.0006668571088973442, 0.0013820049535740626, 0.0005698248062297009, 0.0008070721965248004, 0.0031056307649268487, 0.0013685864063308158, 0.0004023904198123907, 0.0001443047074030868, 0.0012403033775019094, 0.00014784817851576514, 0.0006243205224760297, 4.379700183077651e-05, 0.0007759671095217589, 0.000653528261203976, 0.0007006206811567624, 0.0005844087543249323, 0.0014069269990157364, 0.002298088746499123, 0.0, 0.004526390357505688, 0.0034111116313769656]}, \"x\": [\"Age\", \"DailyRate\", \"DistanceFromHome\", \"Education\", \"EmployeeCount\", \"EmployeeNumber\", \"EnvironmentSatisfaction\", \"HourlyRate\", \"JobInvolvement\", \"JobLevel\", \"JobSatisfaction\", \"MonthlyIncome\", \"MonthlyRate\", \"NumCompaniesWorked\", \"PercentSalaryHike\", \"PerformanceRating\", \"RelationshipSatisfaction\", \"StandardHours\", \"StockOptionLevel\", \"TotalWorkingYears\", \"TrainingTimesLastYear\", \"WorkLifeBalance\", \"YearsAtCompany\", \"YearsInCurrentRole\", \"YearsSinceLastPromotion\", \"YearsWithCurrManager\", \"BusinessTravel_Non-Travel\", \"BusinessTravel_Travel_Frequently\", \"BusinessTravel_Travel_Rarely\", \"Department_Human Resources\", \"Department_Research & Development\", \"Department_Sales\", \"EducationField_Human Resources\", \"EducationField_Life Sciences\", \"EducationField_Marketing\", \"EducationField_Medical\", \"EducationField_Other\", \"EducationField_Technical Degree\", \"Gender_Female\", \"Gender_Male\", \"JobRole_Healthcare Representative\", \"JobRole_Human Resources\", \"JobRole_Laboratory Technician\", \"JobRole_Manager\", \"JobRole_Manufacturing Director\", \"JobRole_Research Director\", \"JobRole_Research Scientist\", \"JobRole_Sales Executive\", \"JobRole_Sales Representative\", \"MaritalStatus_Divorced\", \"MaritalStatus_Married\", \"MaritalStatus_Single\", \"Over18_Y\", \"OverTime_No\", \"OverTime_Yes\"], \"mode\": \"markers\"}], {\"yaxis\": {\"title\": \"Feature Importance\", \"ticklen\": 5, \"showgrid\": false, \"gridwidth\": 2, \"zeroline\": false}, \"xaxis\": {\"ticklen\": 5, \"showgrid\": false, \"showline\": false, \"zeroline\": false}, \"autosize\": true, \"showlegend\": false, \"title\": \"Gradient Boosting Model Feature Importance\", \"hovermode\": \"closest\"}, {\"linkText\": \"Export to plot.ly\", \"showLink\": true})});</script>"
      ],
      "text/plain": [
       "<IPython.core.display.HTML object>"
      ]
     },
     "metadata": {},
     "output_type": "display_data"
    }
   ],
   "source": [
    "# Scatter plot \n",
    "trace = go.Scatter(\n",
    "    y = gb.feature_importances_,\n",
    "    x = attrition_final.columns.values,\n",
    "    mode='markers',\n",
    "    marker=dict(\n",
    "        sizemode = 'diameter',\n",
    "        sizeref = 1,\n",
    "        size = 13,\n",
    "        #size= rf.feature_importances_,\n",
    "        #color = np.random.randn(500), #set color equal to a variable\n",
    "        color = gb.feature_importances_,\n",
    "        colorscale='Portland',\n",
    "        showscale=True\n",
    "    ),\n",
    "    text = attrition_final.columns.values\n",
    ")\n",
    "data = [trace]\n",
    "\n",
    "layout= go.Layout(\n",
    "    autosize= True,\n",
    "    title= 'Gradient Boosting Model Feature Importance',\n",
    "    hovermode= 'closest',\n",
    "     xaxis= dict(\n",
    "         ticklen= 5,\n",
    "         showgrid=False,\n",
    "        zeroline=False,\n",
    "        showline=False\n",
    "     ),\n",
    "    yaxis=dict(\n",
    "        title= 'Feature Importance',\n",
    "        showgrid=False,\n",
    "        zeroline=False,\n",
    "        ticklen= 5,\n",
    "        gridwidth= 2\n",
    "    ),\n",
    "    showlegend= False\n",
    ")\n",
    "fig = go.Figure(data=data, layout=layout)\n",
    "py.iplot(fig,filename='scatter')"
   ]
  },
  {
   "cell_type": "markdown",
   "metadata": {
    "_cell_guid": "7b4ad49b-6f98-0d16-7a55-933a002cf878"
   },
   "source": [
    "**Takeaway from the Plot**\n",
    "\n",
    "**GBM most important features**  : Monthly Income, Overtime, Daily and Monthly Rate\n",
    "\n",
    "Interestingly, the features that the Gradient Boosting model has placed its importance on differs quite greatly from that of the Random Forest. It has decided to rank features with a lot of economic significance highest such as the monthly income and the daily and monthly rate on top of placing importance on overtime. However what is puzzling is the inclusion of the Employee number as an important feature. \n",
    "\n",
    "This may be an edge case in the training or perhaps there is"
   ]
  },
  {
   "cell_type": "markdown",
   "metadata": {
    "_cell_guid": "17c50e00-fc85-5a96-20e2-de168e6fb060"
   },
   "source": [
    "### CONCLUSION\n",
    "\n",
    "We have constructed a very simple pipeline of predicting employee attrition, from some basic Exploratory Data Analysis to feature engineering as well as implementing two learning models in the form of a Random Forest and a Gradient Boosting classifier. This whole notebook takes less than a minute to run and it even returns a 89% accuracy in its predictions.\n",
    "\n",
    "That being said, there is quite a lot of room for improvement. For one, more features could be engineered from the data.  Furthermore one could squeeze performance out of this pipeline by perhaps using some form of blending or stacking of models. I myself am quite keen to implement a classifier voting where a handful of classifiers votes on the outcome of the predictions and we take the majority vote. "
   ]
  },
  {
   "cell_type": "code",
   "execution_count": 28,
   "metadata": {
    "_cell_guid": "92715557-b0c3-da9c-b950-ed9a8ee72fef",
    "collapsed": true
   },
   "outputs": [],
   "source": []
  }
 ],
 "metadata": {
  "_change_revision": 3,
  "_is_fork": false,
  "kernelspec": {
   "display_name": "Python 3",
   "language": "python",
   "name": "python3"
  },
  "language_info": {
   "codemirror_mode": {
    "name": "ipython",
    "version": 3
   },
   "file_extension": ".py",
   "mimetype": "text/x-python",
   "name": "python",
   "nbconvert_exporter": "python",
   "pygments_lexer": "ipython3",
   "version": "3.5.2"
  }
 },
 "nbformat": 4,
 "nbformat_minor": 1
}
